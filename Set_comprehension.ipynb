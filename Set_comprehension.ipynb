{
  "nbformat": 4,
  "nbformat_minor": 0,
  "metadata": {
    "colab": {
      "provenance": [],
      "authorship_tag": "ABX9TyM390+rD+F9RILTE+1cXGGp",
      "include_colab_link": true
    },
    "kernelspec": {
      "name": "python3",
      "display_name": "Python 3"
    },
    "language_info": {
      "name": "python"
    }
  },
  "cells": [
    {
      "cell_type": "markdown",
      "metadata": {
        "id": "view-in-github",
        "colab_type": "text"
      },
      "source": [
        "<a href=\"https://colab.research.google.com/github/rosefromtheashes/Machine-Learning-Bootcamp/blob/main/Set_comprehension.ipynb\" target=\"_parent\"><img src=\"https://colab.research.google.com/assets/colab-badge.svg\" alt=\"Open In Colab\"/></a>"
      ]
    },
    {
      "cell_type": "code",
      "execution_count": null,
      "metadata": {
        "id": "HXX6DGf2tUJc"
      },
      "outputs": [],
      "source": []
    },
    {
      "cell_type": "markdown",
      "source": [
        "Rozważmy dwukrotny rzut kostką. Zbuduj przestrzeń zdarzeń elementarnych omega, następnie policz prawdopodobieństwo zdarzenia polegającego na uzyskania sumy oczek wyższej niż 10. W rozwiązaniu wykorzystaj składanie zbiorów (set comprehension).\n"
      ],
      "metadata": {
        "id": "WYIS0XBsuFma"
      }
    },
    {
      "cell_type": "code",
      "source": [
        "omega = {(i, j) for i in range(1, 7) for j in range(1, 7)}\n",
        "event = {(i, j) for i, j in omega if i + j > 10}\n",
        "probability = len(event) / len(omega)\n",
        "print(f'Probability: {probability:.2f}')"
      ],
      "metadata": {
        "colab": {
          "base_uri": "https://localhost:8080/"
        },
        "id": "4bYbvxlguG1m",
        "outputId": "50c65852-bba9-4bcc-ac44-1fdacdfc4ad2"
      },
      "execution_count": null,
      "outputs": [
        {
          "output_type": "stream",
          "name": "stdout",
          "text": [
            "Probability: 0.08\n"
          ]
        }
      ]
    },
    {
      "cell_type": "markdown",
      "source": [
        "Podany jest następujący opis spółki Playway:\n",
        "\n",
        "description = 'Playway: Playway to producent gier komputerowych.'\n",
        "\n",
        "Zamień wszystkie znaki na małe, usuń dwukropek oraz kropkę i następnie podziel otrzymany tekst na słowa. Z tak otrzymanej listy utwórz zbiór unikalnych słów. Wydrukuj długość otrzymanego zbioru do konsoli."
      ],
      "metadata": {
        "id": "26b3KI9nucWs"
      }
    },
    {
      "cell_type": "code",
      "source": [
        "description = 'Playway: Playway to producent gier komputerowych.'\n",
        "description = description.lower().replace(':','').replace('.', '').split()\n",
        "unique_words = {word for word in description}\n",
        "print(len(unique_words))"
      ],
      "metadata": {
        "colab": {
          "base_uri": "https://localhost:8080/"
        },
        "id": "n5dDR6grufnu",
        "outputId": "93f5f2d9-b541-4764-cdfb-0cd11307bb5e"
      },
      "execution_count": null,
      "outputs": [
        {
          "output_type": "stream",
          "name": "stdout",
          "text": [
            "['playway', 'playway', 'to', 'producent', 'gier', 'komputerowych']\n",
            "5\n"
          ]
        }
      ]
    },
    {
      "cell_type": "markdown",
      "source": [
        "Rozważmy dwukrotny rzut kostką. Zbuduj przestrzeń zdarzeń elementarnych omega, następnie policz prawdopodobieństwo zdarzenia polegającego na uzyskaniu sumy kwadratów oczek wyższej lub równej 45. W rozwiązaniu wykorzystaj składanie zbiorów(set comprehension). Wynik zaokrąglij do drugiego miejsca po przecinku i wydrukuj do konsoli tak jak pokazano poniżej."
      ],
      "metadata": {
        "id": "zHsKWFNTXsVM"
      }
    },
    {
      "cell_type": "code",
      "source": [
        "omega = {(i, j) for i in range (1, 7) for j in range(1, 7)}\n",
        "event = {(i, j) for i, j in omega if i ** 2 + j **2 >= 45}\n",
        "probability = len(event) / len(omega)\n",
        "print(f'Probability: {probability:.2f}')"
      ],
      "metadata": {
        "colab": {
          "base_uri": "https://localhost:8080/"
        },
        "id": "VA62ZIpdXumO",
        "outputId": "1f1601b0-0916-45be-bf1e-22deaf366044"
      },
      "execution_count": 2,
      "outputs": [
        {
          "output_type": "stream",
          "name": "stdout",
          "text": [
            "Probability: 0.22\n"
          ]
        }
      ]
    },
    {
      "cell_type": "markdown",
      "source": [
        "Rozważmy trzykrotny rzut kostką. Zbuduj przestrzeń zdarzeń elementarnych omega. Następnie policz prawdopodobieństwo zdarzenia polegającego na uzyskania trójki cyfr, której suma jest podzielna przez 7. W rozwiązaniu wykorzystaj składanie zbiorów (set comprehension). Wynik zaokrąglij do drugiego miejsca po przecinku."
      ],
      "metadata": {
        "id": "rkL5g63EYiki"
      }
    },
    {
      "cell_type": "code",
      "source": [
        "omega = {(i, j, k) for i in range (1, 7) for j in range(1, 7) for k in range(1, 7)}\n",
        "event = {(i, j, k) for i, j, k in omega if (i + j + k) % 7 == 0}\n",
        "probability = len(event) / len(omega)\n",
        "print(f'Probability: {probability:.2f}')"
      ],
      "metadata": {
        "colab": {
          "base_uri": "https://localhost:8080/"
        },
        "id": "AWZ_CmbYYjcw",
        "outputId": "eb87323c-3fe9-4600-80b0-0528a49af170"
      },
      "execution_count": 3,
      "outputs": [
        {
          "output_type": "stream",
          "name": "stdout",
          "text": [
            "Probability: 0.14\n"
          ]
        }
      ]
    },
    {
      "cell_type": "markdown",
      "source": [
        "Oblicz prawdopodobieństwo tego, że w trzech rzutach symetryczną sześcienną kostką do gry suma kwadratów uzyskanych oczek będzie podzielna przez 3. W rozwiązaniu wykorzystaj składanie zbiorów (set comprehension). Wynik zaokrąglij do czwartego miejsca po przecinku i wydrukuj do konsoli tak jak poniżej."
      ],
      "metadata": {
        "id": "8_MSrGNCZC-b"
      }
    },
    {
      "cell_type": "code",
      "source": [
        "omega = {(i, j, k) for i in range (1, 7) for j in range(1, 7) for k in range(1, 7)}\n",
        "event = {(i, j, k) for i, j, k in omega if (i ** 2 + j ** 2 + k ** 2) % 3 == 0}\n",
        "probability = len(event) / len(omega)\n",
        "print(f'Probability: {probability:.4f}')"
      ],
      "metadata": {
        "colab": {
          "base_uri": "https://localhost:8080/"
        },
        "id": "ra5YtxZbZDwj",
        "outputId": "9049d1cf-a7cb-4adc-9799-a146d3113caf"
      },
      "execution_count": 5,
      "outputs": [
        {
          "output_type": "stream",
          "name": "stdout",
          "text": [
            "Probability: 0.3333\n"
          ]
        }
      ]
    },
    {
      "cell_type": "markdown",
      "source": [
        "Rzucamy trzykrotnie symetryczną kostką sześcienną do gry. Oblicz prawdopodobieństwo zdarzenia:\n",
        " – w każdym rzucie wypadnie nieparzysta liczba oczek\n",
        "W rozwiązaniu wykorzystaj składanie zbiorów (set comprehension). Wynik zaokrąglij do trzeciego miejsca po przecinku i wydrukuj tak jak pokazano poniżej."
      ],
      "metadata": {
        "id": "vVhhjQRHZX_m"
      }
    },
    {
      "cell_type": "code",
      "source": [
        "omega = {(i, j, k) for i in range (1, 7) for j in range(1, 7) for k in range(1, 7)}\n",
        "event = {(i, j, k) for i, j, k in omega if i % 2 == 1 and j % 2 == 1 and k % 2 == 1}\n",
        "probability = len(event) / len(omega)\n",
        "print(f'Probability: {probability:.3f}')"
      ],
      "metadata": {
        "colab": {
          "base_uri": "https://localhost:8080/"
        },
        "id": "FhpTcUZbZZFl",
        "outputId": "6e03db08-cc59-4ac3-be5f-cbe189c6cbd9"
      },
      "execution_count": 7,
      "outputs": [
        {
          "output_type": "stream",
          "name": "stdout",
          "text": [
            "Probability: 0.125\n"
          ]
        }
      ]
    },
    {
      "cell_type": "code",
      "source": [
        "dice = range(1, 7)\n",
        "omega = {(x, y, z) for x in dice for y in dice for z in dice}\n",
        "event_a = {\n",
        "    (x, y, z)\n",
        "    for (x, y, z) in omega\n",
        "    if all(num % 2 != 0 for num in (x, y, z))\n",
        "}\n",
        "probability = round(len(event_a) / len(omega), 3)\n",
        "print(f'Probability: {probability:.3f}')"
      ],
      "metadata": {
        "id": "8i6m9tyRZwGH"
      },
      "execution_count": null,
      "outputs": []
    },
    {
      "cell_type": "markdown",
      "source": [
        "Załóżmy, że piszesz program, który ma za zadanie wyciągnąć unikalne tagi z listy artykułów na stronie o ciekawostkach w branży IT. Lista artykułów jest przechowywana jako lista słowników, a każdy słownik reprezentuje jeden artykuł i ma klucz 'tags', który przechowuje listę tagów przypisanych do artykułu.\n",
        "\n",
        "Wykorzystaj składanie zbiorów (set comprehension), aby wyciągnąć unikalne tagi ze wszystkich artykułów w liście articles i przypisz do zmiennej unique_tags.\n",
        "\n"
      ],
      "metadata": {
        "id": "X_uhVmn1Z4yE"
      }
    },
    {
      "cell_type": "code",
      "source": [
        "articles = [\n",
        "    {\n",
        "        'title': 'Artykuł 1',\n",
        "        'tags': ['Python', 'baz danych'],\n",
        "    },\n",
        "    {\n",
        "        'title': 'Artykuł 2',\n",
        "        'tags': ['Python', 'web dev', 'frontend'],\n",
        "    },\n",
        "    {\n",
        "        'title': 'Artykuł 3',\n",
        "        'tags': ['AI', 'data science'],\n",
        "    },\n",
        "]\n",
        "\n",
        "unique_tags = {tag for article in articles for tag in article['tags']}\n",
        "print(unique_tags)"
      ],
      "metadata": {
        "colab": {
          "base_uri": "https://localhost:8080/"
        },
        "id": "zsSLfkSHZ8Vh",
        "outputId": "9b441ff8-a7ba-412f-d622-bf1125fec76f"
      },
      "execution_count": 10,
      "outputs": [
        {
          "output_type": "stream",
          "name": "stdout",
          "text": [
            "{'baz danych', 'frontend', 'AI', 'web dev', 'data science', 'Python'}\n"
          ]
        }
      ]
    },
    {
      "cell_type": "markdown",
      "source": [
        "Załóżmy, że piszesz program dla sklepu internetowego, który ma za zadanie wyciągnąć unikalne kombinacje rozmiarów i kolorów dla każdego produktu, które są dostępne w sklepie. Baza danych przechowuje informacje o produktach w postaci listy słowników, a każdy słownik reprezentuje jeden produkt i ma klucz 'color', który przechowuje kolor produktu, oraz klucz 'sizes', który przechowuje listę dostępnych rozmiarów dla danego produktu.\n",
        "\n",
        "Użyj składania zbiorów (set comprehension), aby wyciągnąć unikalne kombinacje rozmiarów i kolorów dla każdego produktu, które są dostępne w sklepie i przypisz do zmiennej unique_combinations.\n",
        "\n",
        "Oczekiwana postać zbioru unique_combinations:\n",
        "\n",
        "{\n",
        "    'black - L',\n",
        "    'black - XL',\n",
        "    'black - XXL',\n",
        "    'blue - L',\n",
        "    'blue - M',\n",
        "    'blue - XL',\n",
        "    'red - 40',\n",
        "    'red - 41',\n",
        "    'red - 42',\n",
        "    'red - 43',\n",
        "    'red - 44',\n",
        "    'white - L',\n",
        "    'white - M',\n",
        "    'white - S',\n",
        "    'white - XL',\n",
        "}\n",
        "\n"
      ],
      "metadata": {
        "id": "vD6udre8bFsk"
      }
    },
    {
      "cell_type": "code",
      "source": [
        "products = [\n",
        "    {\n",
        "        'name': 'T-shirt',\n",
        "        'color': 'white',\n",
        "        'sizes': ['S', 'M', 'L', 'XL'],\n",
        "    },\n",
        "    {\n",
        "        'name': 'Trousers',\n",
        "        'color': 'blue',\n",
        "        'sizes': ['M', 'L', 'XL'],\n",
        "    },\n",
        "    {\n",
        "        'name': 'Jacket',\n",
        "        'color': 'black',\n",
        "        'sizes': ['L', 'XL', 'XXL'],\n",
        "    },\n",
        "    {\n",
        "        'name': 'Shoes',\n",
        "        'color': 'red',\n",
        "        'sizes': ['40', '41', '42', '43', '44'],\n",
        "    },\n",
        "]\n",
        "unique_combinations = {(f\"{product['color']} - {size}\") for product in products for color in [product['color']] for size in product['sizes']}\n",
        "print(unique_combinations)\n",
        "\n",
        "unique_combinations = {\n",
        "    f\"{product['color']} - {size}\"\n",
        "    for product in products\n",
        "    for size in product['sizes']\n",
        "}"
      ],
      "metadata": {
        "colab": {
          "base_uri": "https://localhost:8080/"
        },
        "id": "Iiry0eVzbHo4",
        "outputId": "c847a4de-5deb-4f0e-f18d-5ad7308a9b7d"
      },
      "execution_count": 5,
      "outputs": [
        {
          "output_type": "stream",
          "name": "stdout",
          "text": [
            "{'blue - XL', 'black - XL', 'white - M', 'blue - M', 'black - XXL', 'red - 40', 'white - L', 'red - 44', 'red - 42', 'blue - L', 'white - XL', 'white - S', 'black - L', 'red - 43', 'red - 41'}\n"
          ]
        }
      ]
    },
    {
      "cell_type": "markdown",
      "source": [
        "Załóżmy, że piszesz program dla sklepu internetowego sprzedającego sprzęt komputerowy. Podana jest poniższa lista dostępnych produktów:\n",
        "\n",
        "Twoim zadaniem jest wyodrębnienie zbioru unikalnych tagów z podanej listy produktów. Otrzymany zbiór przypisz do zmiennej unique_tags."
      ],
      "metadata": {
        "id": "lju-mq-ws-ga"
      }
    },
    {
      "cell_type": "code",
      "source": [
        "products = [\n",
        "    {\n",
        "        'id': 1,\n",
        "        'name': 'Keyboard',\n",
        "        'tags': ['electronics', 'computer accessories'],\n",
        "    },\n",
        "    {\n",
        "        'id': 2,\n",
        "        'name': 'Mouse',\n",
        "        'tags': ['electronics', 'computer accessories'],\n",
        "    },\n",
        "    {\n",
        "        'id': 3,\n",
        "        'name': 'Monitor',\n",
        "        'tags': ['electronics', 'monitors'],\n",
        "    },\n",
        "    {\n",
        "        'id': 4,\n",
        "        'name': 'Speakers',\n",
        "        'tags': ['electronics', 'audio accessories'],\n",
        "    },\n",
        "    {\n",
        "        'id': 5,\n",
        "        'name': 'Headphones',\n",
        "        'tags': ['electronics', 'audio accessories'],\n",
        "    },\n",
        "]\n",
        "\n",
        "unique_tags = {tag for product in products for tag in product['tags']}\n",
        "print(unique_tags)"
      ],
      "metadata": {
        "colab": {
          "base_uri": "https://localhost:8080/"
        },
        "id": "ilsoYs01tFZW",
        "outputId": "40b24674-9578-47a2-c40d-04deba675a41"
      },
      "execution_count": 6,
      "outputs": [
        {
          "output_type": "stream",
          "name": "stdout",
          "text": [
            "{'monitors', 'audio accessories', 'electronics', 'computer accessories'}\n"
          ]
        }
      ]
    }
  ]
}