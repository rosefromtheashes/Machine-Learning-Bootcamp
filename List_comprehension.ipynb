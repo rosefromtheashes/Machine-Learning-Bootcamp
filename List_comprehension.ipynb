{
  "nbformat": 4,
  "nbformat_minor": 0,
  "metadata": {
    "colab": {
      "provenance": [],
      "authorship_tag": "ABX9TyPO25lC5yN56K7Y8uG3in7g",
      "include_colab_link": true
    },
    "kernelspec": {
      "name": "python3",
      "display_name": "Python 3"
    },
    "language_info": {
      "name": "python"
    }
  },
  "cells": [
    {
      "cell_type": "markdown",
      "metadata": {
        "id": "view-in-github",
        "colab_type": "text"
      },
      "source": [
        "<a href=\"https://colab.research.google.com/github/rosefromtheashes/Machine-Learning-Bootcamp/blob/main/List_comprehension.ipynb\" target=\"_parent\"><img src=\"https://colab.research.google.com/assets/colab-badge.svg\" alt=\"Open In Colab\"/></a>"
      ]
    },
    {
      "cell_type": "markdown",
      "source": [
        "Do ćwiczenia załączony jest plik gaming.txt. Wczytaj zawartość tego pliku, usuń wszystkie znaki nowej linii oraz usuń linie, które nie zawierają żadnego znaku. Tak przygotowany tekst wydrukuj do konsoli. W rozwiązaniu skorzystaj ze składania list (list comprehension)."
      ],
      "metadata": {
        "id": "O3XA40z1DkZc"
      }
    },
    {
      "cell_type": "code",
      "execution_count": null,
      "metadata": {
        "id": "KnrS3f8iDbbT"
      },
      "outputs": [],
      "source": [
        "with open('gaming.txt', 'r') as file:\n",
        "    lines = [line.strip() for line in file if line.strip()]\n",
        "\n",
        "print(lines)"
      ]
    },
    {
      "cell_type": "markdown",
      "source": [
        "Podana jest poniższa lista cen produktów netto:\n",
        "\n",
        "net_price = [5.5, 4.0, 9.0, 10.0]\n",
        "\n",
        "Podatek VAT na te produkty wynosi 23%:\n",
        "\n",
        "tax_rate = 0.23\n",
        "\n",
        "Policz cenę brutto dla każdego produktu. Cenę zaokrąglij do drugiego miejsca po przecinku. W odpowiedzi tak otrzymaną listę wydrukuj do konsoli. W rozwiązaniu skorzystaj ze składania list(list comprehension)."
      ],
      "metadata": {
        "id": "DzKDL8DUDjFx"
      }
    },
    {
      "cell_type": "code",
      "source": [
        "net_price = [5.5, 4.0, 9.0, 10.0]\n",
        "\n",
        "tax_rate = 0.23\n",
        "\n",
        "gross_prices = [round(price * (1 + tax_rate), 2) for price in net_price]\n",
        "\n",
        "print(gross_prices)"
      ],
      "metadata": {
        "colab": {
          "base_uri": "https://localhost:8080/"
        },
        "id": "24C90RteD5uP",
        "outputId": "42c934e0-8fd3-4661-dc5d-e6360690e8cf"
      },
      "execution_count": 1,
      "outputs": [
        {
          "output_type": "stream",
          "name": "stdout",
          "text": [
            "[6.76, 4.92, 11.07, 12.3]\n"
          ]
        }
      ]
    },
    {
      "cell_type": "markdown",
      "source": [
        "Podana jest poniżej kwota początkowa inwestycji present_value PLN oraz okres inwestycji num_years:\n",
        "\n",
        "present_value = 1000\n",
        "num_years = 10\n",
        "\n",
        "W zależności od podanych poniżej stóp procentowych policz wartości przyszłe inwestycji i przypisz do zmiennej future_values:\n",
        "\n",
        "interest_rates = [0.01, 0.02, 0.03, 0.04, 0.05, 0.06, 0.07]\n",
        "\n",
        "Wartości przyszłe zaokrąglij do pełnych groszy. Wynik wydrukuj do konsoli."
      ],
      "metadata": {
        "id": "WXH4da96E2H6"
      }
    },
    {
      "cell_type": "code",
      "source": [
        "present_value = 1000\n",
        "num_years = 10\n",
        "interest_rates = [0.01, 0.02, 0.03, 0.04, 0.05, 0.06, 0.07]\n",
        "\n",
        "future_values = [round(present_value * (1 + interest_rate) ** num_years, 2) for interest_rate in interest_rates]\n",
        "print(future_values)"
      ],
      "metadata": {
        "colab": {
          "base_uri": "https://localhost:8080/"
        },
        "id": "nYvcrnz0E3Fl",
        "outputId": "6e1489ea-f9ee-434d-b9a1-0f0c9e0c3606"
      },
      "execution_count": 6,
      "outputs": [
        {
          "output_type": "stream",
          "name": "stdout",
          "text": [
            "[1104.62, 1218.99, 1343.92, 1480.24, 1628.89, 1790.85, 1967.15]\n"
          ]
        }
      ]
    },
    {
      "cell_type": "markdown",
      "source": [
        "Podana jest kwota początkowa inwestycji present_value PLN oraz podany jest okres inwestycji num_years:\n",
        "\n",
        "present_value = 1000\n",
        "num_years = 10\n",
        "\n",
        "W zależności od podanych poniżej stóp procentowych policz wartość odsetek z inwestycji:\n",
        "\n",
        "interest_rates = [0.01, 0.02, 0.03, 0.04, 0.05, 0.06, 0.07]\n",
        "\n",
        "Wartość odsetek zaokrąglij do pełnych groszy. W odpowiedzi otrzymaną listę z odsetkami wydrukuj do konsoli."
      ],
      "metadata": {
        "id": "NOZ5dcE_GVf7"
      }
    },
    {
      "cell_type": "code",
      "source": [
        "present_value = 1000\n",
        "num_years = 10\n",
        "interest_rates = [0.01, 0.02, 0.03, 0.04, 0.05, 0.06, 0.07]\n",
        "interest = [round((present_value * (1 + interest_rate) ** num_years) - present_value,2) for interest_rate in interest_rates]\n",
        "print(interest)"
      ],
      "metadata": {
        "colab": {
          "base_uri": "https://localhost:8080/"
        },
        "id": "2Bqo11W0GWW4",
        "outputId": "133699ac-258c-4aef-f62f-ab134fc75901"
      },
      "execution_count": 7,
      "outputs": [
        {
          "output_type": "stream",
          "name": "stdout",
          "text": [
            "[104.62, 218.99, 343.92, 480.24, 628.89, 790.85, 967.15]\n"
          ]
        }
      ]
    },
    {
      "cell_type": "markdown",
      "source": [
        "Podany jest poniższy słownik:\n",
        "\n",
        "data = dict(zip(('a', 'b', 'c', 'd', 'e', 'f'),(1, 2, 3, 4, 5, 6)))\n",
        "\n",
        "Przekształć podany słownik w poniższą listę i przypisz do zmiennej result.\n",
        "\n",
        "[['a', 1], ['b', 2], ['c', 3], ['d', 4], ['e', 5], ['f', 6]]\n",
        "\n",
        "W rozwiązaniu skorzystaj ze składania list (list comprehension). W odpowiedzi wydrukuj zawartość zmiennej result do konsoli."
      ],
      "metadata": {
        "id": "8CKtQrK4JVV8"
      }
    },
    {
      "cell_type": "code",
      "source": [
        "data = dict(zip(('a', 'b', 'c', 'd', 'e', 'f'),(1, 2, 3, 4, 5, 6)))\n",
        "\n",
        "result = [[key, value] for key, value in data.items()]\n",
        "print(result)"
      ],
      "metadata": {
        "colab": {
          "base_uri": "https://localhost:8080/"
        },
        "id": "cImdrdsjJWRn",
        "outputId": "e9be488b-22d4-4d67-d041-4aca2c01b07d"
      },
      "execution_count": 8,
      "outputs": [
        {
          "output_type": "stream",
          "name": "stdout",
          "text": [
            "[['a', 1], ['b', 2], ['c', 3], ['d', 4], ['e', 5], ['f', 6]]\n"
          ]
        }
      ]
    },
    {
      "cell_type": "markdown",
      "source": [
        "Załóżmy, że pracujesz nad systemem do obsługi sklepu internetowego ze sprzętem komputerowym. Podaną masz poniższą listę dostępnych produktów:\n",
        "\n",
        "Twoim zadaniem jest utworzenie nowej listy, która będzie zawiera tylko te produkty z listy products, których cena jest wyższa niż średnia cena wszystkich produktów."
      ],
      "metadata": {
        "id": "khLzdHteKEKT"
      }
    },
    {
      "cell_type": "code",
      "source": [
        "from abc import update_abstractmethods\n",
        "products = [\n",
        "    {'id': 1, 'name': 'Keyboard', 'price': 110},\n",
        "    {'id': 2, 'name': 'Mouse', 'price': 50},\n",
        "    {'id': 3, 'name': 'Monitor', 'price': 200},\n",
        "    {'id': 4, 'name': 'Loudspeakers', 'price': 75},\n",
        "    {'id': 5, 'name': 'Headphones', 'price': 90},\n",
        "]\n",
        "\n",
        "avg_price = sum(product['price'] for product in products) / len(products)\n",
        "upper_avg_price = [product for product in products if product['price'] > avg_price]\n",
        "print(avg_price)\n",
        "print(upper_avg_price)"
      ],
      "metadata": {
        "colab": {
          "base_uri": "https://localhost:8080/"
        },
        "id": "MBj4mcAsKK3N",
        "outputId": "737c3b82-8fec-4c15-f1ef-01b69826c244"
      },
      "execution_count": 12,
      "outputs": [
        {
          "output_type": "stream",
          "name": "stdout",
          "text": [
            "105.0\n",
            "{'id': 1, 'name': 'Keyboard', 'price': 110}\n",
            "{'id': 3, 'name': 'Monitor', 'price': 200}\n"
          ]
        }
      ]
    },
    {
      "cell_type": "markdown",
      "source": [
        "Załóżmy, że masz listę słowników reprezentujących wyniki pomiarów ciśnienia krwi u pacjentów, a każdy słownik zawiera pomiary ciśnienia skurczowego i rozkurczowego. Chcesz utworzyć nową listę, zawierającą tylko tych pacjentów, u których oba pomiary (ciśnienie skurczowe i rozkurczowe) są w normie, czyli mieści się w przedziale od 90/60 mmHg do 120/80 mmHg (pierwsza wartość to ciśnienie skurczowe, druga to rozkurczowe). Ciśnienie skurczowe powinno zawierać się w przedziale [90, 120], zaś rozkurczowe [60, 80]."
      ],
      "metadata": {
        "id": "wu59WAnxNHou"
      }
    },
    {
      "cell_type": "code",
      "source": [
        "blood_pressure_results = [\n",
        "    {'patient_id': 1, 'systolic': 118, 'diastolic': 72},\n",
        "    {'patient_id': 2, 'systolic': 130, 'diastolic': 90},\n",
        "    {'patient_id': 3, 'systolic': 120, 'diastolic': 80},\n",
        "    {'patient_id': 4, 'systolic': 110, 'diastolic': 70},\n",
        "    {'patient_id': 5, 'systolic': 140, 'diastolic': 95},\n",
        "]\n",
        "good_result = [result for result in blood_pressure_results if result['systolic'] >= 90 and result['systolic'] <= 120 and result['diastolic'] >= 60 and result['diastolic'] <= 80]\n",
        "print(good_result)"
      ],
      "metadata": {
        "colab": {
          "base_uri": "https://localhost:8080/"
        },
        "id": "CSkqaiKGNMMY",
        "outputId": "162a788c-cca1-4d4d-f7a6-33129cdc7459"
      },
      "execution_count": 13,
      "outputs": [
        {
          "output_type": "stream",
          "name": "stdout",
          "text": [
            "[{'patient_id': 1, 'systolic': 118, 'diastolic': 72}, {'patient_id': 3, 'systolic': 120, 'diastolic': 80}, {'patient_id': 4, 'systolic': 110, 'diastolic': 70}]\n"
          ]
        }
      ]
    }
  ]
}