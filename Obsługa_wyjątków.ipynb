{
  "nbformat": 4,
  "nbformat_minor": 0,
  "metadata": {
    "colab": {
      "provenance": [],
      "authorship_tag": "ABX9TyPYCaHDVMBs5yTldVe5ukR/",
      "include_colab_link": true
    },
    "kernelspec": {
      "name": "python3",
      "display_name": "Python 3"
    },
    "language_info": {
      "name": "python"
    }
  },
  "cells": [
    {
      "cell_type": "markdown",
      "metadata": {
        "id": "view-in-github",
        "colab_type": "text"
      },
      "source": [
        "<a href=\"https://colab.research.google.com/github/rosefromtheashes/Machine-Learning-Bootcamp/blob/main/Obs%C5%82uga_wyj%C4%85tk%C3%B3w.ipynb\" target=\"_parent\"><img src=\"https://colab.research.google.com/assets/colab-badge.svg\" alt=\"Open In Colab\"/></a>"
      ]
    },
    {
      "cell_type": "markdown",
      "source": [
        "Chcemy podzielić zmienną total przez zmienną counter.\n",
        "\n",
        "Używając klauzuli try... except... obsłuż wyjątek dzielenia przez zero. Jeżeli dzielenie zostanie wykonane poprawnie wynik wydrukuj do konsoli. W przypadku podniesienia błędu ZeroDivisionError wydrukuj do konsoli poniższy tekst:"
      ],
      "metadata": {
        "id": "kYUZ4yqhPBBL"
      }
    },
    {
      "cell_type": "code",
      "source": [
        "total = 3000\n",
        "counter = 0\n",
        "\n",
        "try:\n",
        "  print(total / counter)\n",
        "\n",
        "except ZeroDivisionError:\n",
        "  print('Cannot divide by zero.')"
      ],
      "metadata": {
        "colab": {
          "base_uri": "https://localhost:8080/"
        },
        "id": "EERsIgrYPCVU",
        "outputId": "fdc11e28-8efe-43e5-dc47-4e143a3ccffc"
      },
      "execution_count": 1,
      "outputs": [
        {
          "output_type": "stream",
          "name": "stdout",
          "text": [
            "Cannot divide by zero\n"
          ]
        }
      ]
    },
    {
      "cell_type": "code",
      "source": [
        "try:\n",
        "    with open('file.txt', 'r') as file:\n",
        "        content = file.read()\n",
        "\n",
        "except:\n",
        "    print('File not found.')"
      ],
      "metadata": {
        "id": "YrWdua9jQwJk"
      },
      "execution_count": null,
      "outputs": []
    },
    {
      "cell_type": "code",
      "source": [
        "users = {'001': 'Marek', '002': 'Monika', '003': 'Jakub'}\n",
        "user_id = '004'\n",
        "\n",
        "try:\n",
        "    print(users['004'])\n",
        "except KeyError:\n",
        "    print(f\"\"\"Key \"{user_id}\" not found in the dictionary. Adding key...\"\"\")\n",
        "\n",
        "users[user_id] = None\n",
        "\n",
        "print(users)"
      ],
      "metadata": {
        "colab": {
          "base_uri": "https://localhost:8080/"
        },
        "id": "pHf2neNFRa_C",
        "outputId": "cddcf68f-4742-48d5-b3b2-ad3a554f3be9"
      },
      "execution_count": 3,
      "outputs": [
        {
          "output_type": "stream",
          "name": "stdout",
          "text": [
            "Key \"004\" not found in the dictionary. Adding key...\n",
            "{'001': 'Marek', '002': 'Monika', '003': 'Jakub'}\n"
          ]
        }
      ]
    },
    {
      "cell_type": "code",
      "source": [
        "age_str = 'Pawel'\n",
        "\n",
        "try:\n",
        "    number = int(age_str)\n",
        "    print(f'Success! The number is: {number}')\n",
        "\n",
        "except ValueError:\n",
        "    print('Unable to convert the string to an integer.')\n",
        "\n",
        "print('The program has finished executing.')"
      ],
      "metadata": {
        "id": "DAEPwMOzSrUd"
      },
      "execution_count": null,
      "outputs": []
    },
    {
      "cell_type": "code",
      "source": [
        "numbers = [1, 2, 3, 4, 5]\n",
        "user_input = 10\n",
        "print(numbers[user_input])"
      ],
      "metadata": {
        "colab": {
          "base_uri": "https://localhost:8080/",
          "height": 208
        },
        "id": "bKaFb3DsTaXl",
        "outputId": "6d146f0e-b09c-47d2-d9f0-6a82abc3a120"
      },
      "execution_count": 4,
      "outputs": [
        {
          "output_type": "error",
          "ename": "IndexError",
          "evalue": "ignored",
          "traceback": [
            "\u001b[0;31m---------------------------------------------------------------------------\u001b[0m",
            "\u001b[0;31mIndexError\u001b[0m                                Traceback (most recent call last)",
            "\u001b[0;32m<ipython-input-4-4298a912563d>\u001b[0m in \u001b[0;36m<cell line: 3>\u001b[0;34m()\u001b[0m\n\u001b[1;32m      1\u001b[0m \u001b[0mnumbers\u001b[0m \u001b[0;34m=\u001b[0m \u001b[0;34m[\u001b[0m\u001b[0;36m1\u001b[0m\u001b[0;34m,\u001b[0m \u001b[0;36m2\u001b[0m\u001b[0;34m,\u001b[0m \u001b[0;36m3\u001b[0m\u001b[0;34m,\u001b[0m \u001b[0;36m4\u001b[0m\u001b[0;34m,\u001b[0m \u001b[0;36m5\u001b[0m\u001b[0;34m]\u001b[0m\u001b[0;34m\u001b[0m\u001b[0;34m\u001b[0m\u001b[0m\n\u001b[1;32m      2\u001b[0m \u001b[0muser_input\u001b[0m \u001b[0;34m=\u001b[0m \u001b[0;36m10\u001b[0m\u001b[0;34m\u001b[0m\u001b[0;34m\u001b[0m\u001b[0m\n\u001b[0;32m----> 3\u001b[0;31m \u001b[0mprint\u001b[0m\u001b[0;34m(\u001b[0m\u001b[0mnumbers\u001b[0m\u001b[0;34m[\u001b[0m\u001b[0muser_input\u001b[0m\u001b[0;34m]\u001b[0m\u001b[0;34m)\u001b[0m\u001b[0;34m\u001b[0m\u001b[0;34m\u001b[0m\u001b[0m\n\u001b[0m",
            "\u001b[0;31mIndexError\u001b[0m: list index out of range"
          ]
        }
      ]
    },
    {
      "cell_type": "markdown",
      "source": [],
      "metadata": {
        "id": "aTG567HmO7Pt"
      }
    },
    {
      "cell_type": "code",
      "execution_count": null,
      "metadata": {
        "id": "UMCj4wSMO2HX"
      },
      "outputs": [],
      "source": []
    },
    {
      "cell_type": "markdown",
      "source": [],
      "metadata": {
        "id": "rdsgxbA8O5uy"
      }
    }
  ]
}