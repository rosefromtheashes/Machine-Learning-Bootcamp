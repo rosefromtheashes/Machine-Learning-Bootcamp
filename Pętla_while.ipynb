{
  "nbformat": 4,
  "nbformat_minor": 0,
  "metadata": {
    "colab": {
      "provenance": [],
      "authorship_tag": "ABX9TyM4SJLCoIok6nBj2+2hjM6W",
      "include_colab_link": true
    },
    "kernelspec": {
      "name": "python3",
      "display_name": "Python 3"
    },
    "language_info": {
      "name": "python"
    }
  },
  "cells": [
    {
      "cell_type": "markdown",
      "metadata": {
        "id": "view-in-github",
        "colab_type": "text"
      },
      "source": [
        "<a href=\"https://colab.research.google.com/github/rosefromtheashes/Machine-Learning-Bootcamp/blob/main/P%C4%99tla_while.ipynb\" target=\"_parent\"><img src=\"https://colab.research.google.com/assets/colab-badge.svg\" alt=\"Open In Colab\"/></a>"
      ]
    },
    {
      "cell_type": "code",
      "execution_count": null,
      "metadata": {
        "id": "ELFUxJ8jVYpR"
      },
      "outputs": [],
      "source": [
        "Napisz program, który wydrukuje do konsoli 10 pierwszych liczb pierwszych rozdzielonych przecinkiem tak jak pokazano poniżej.\n",
        "\n",
        "W rozwiązaniu użyj pętli while oraz instrukcji break.\n",
        "\n",
        "2,3,5,7,11,13,17,19,23,29"
      ]
    },
    {
      "cell_type": "code",
      "source": [
        "counter = 0 # ile chcemy liczb pierwszych?\n",
        "number = 2\n",
        "prime = []\n",
        "\n",
        "while counter < 10:\n",
        "    for i in range(2, number):\n",
        "        if number % i == 0:\n",
        "            break\n",
        "    else:\n",
        "        prime.append(str(number))\n",
        "        counter += 1\n",
        "    number += 1\n",
        "\n",
        "print(','.join(prime))"
      ],
      "metadata": {
        "colab": {
          "base_uri": "https://localhost:8080/"
        },
        "id": "XrjMV272ViM_",
        "outputId": "5e21051f-00be-419e-ac64-df707ee368b8"
      },
      "execution_count": null,
      "outputs": [
        {
          "output_type": "stream",
          "name": "stdout",
          "text": [
            "2,3,5,7,11,13,17,19,23,29\n"
          ]
        }
      ]
    },
    {
      "cell_type": "markdown",
      "source": [
        "Wykorzystując pętlę while policz ile trzeba czekać lat, aby zwrot z poniżej opisanej inwestycji co najmniej się podwoił (pod uwagę bierzemy tylko pełne okresy).\n",
        "\n",
        "Oznaczenia:\n",
        "\n",
        "n - liczba okresów (w latach)\n",
        "pv - present value - wartość obecna\n",
        "r - stopa procentowa (roczna)\n",
        "fv - future value - wartość przyszła\n",
        "\n",
        "Opis inwestycji:\n",
        "\n",
        "pv = 1000\n",
        "r = 0.04\n",
        "\n",
        "Oczekiwany wynik:\n",
        "\n",
        "Future value: 2025.82 PLN. Number of periods: 18 years"
      ],
      "metadata": {
        "id": "wnJ9q6QpWOeJ"
      }
    },
    {
      "cell_type": "code",
      "source": [
        "n = 0\n",
        "pv = 1000\n",
        "r = 0.04\n",
        "fv = pv * 2\n",
        "\n",
        "while pv < fv:\n",
        "    pv *= (1 + r)\n",
        "    n += 1\n",
        "\n",
        "print(f'Future value: {pv:.2f} PLN. Number of periods: {n} years.')\n"
      ],
      "metadata": {
        "id": "Fx3GQidAWPsO",
        "colab": {
          "base_uri": "https://localhost:8080/"
        },
        "outputId": "989c5efe-e79c-4d78-a0b9-c186f466d97c"
      },
      "execution_count": null,
      "outputs": [
        {
          "output_type": "stream",
          "name": "stdout",
          "text": [
            "18 2025.8165153785328\n",
            "Future value: 2025.82 PLN. Number of periods: 18 years.\n"
          ]
        }
      ]
    },
    {
      "cell_type": "markdown",
      "source": [
        "Rozwiązanie z Udemy:"
      ],
      "metadata": {
        "id": "4JXCcFOx_NMb"
      }
    },
    {
      "cell_type": "code",
      "source": [
        "n = 1\n",
        "pv = 1000\n",
        "r = 0.04\n",
        "fv = pv * (1 + r)\n",
        "\n",
        "while fv <= 2000:\n",
        "    fv = fv * (1 + r)\n",
        "    n += 1\n",
        "\n",
        "print(f'Future value: {fv:.2f} PLN. Number of periods: {n} years')"
      ],
      "metadata": {
        "id": "oWFhVdLy_On3"
      },
      "execution_count": null,
      "outputs": []
    },
    {
      "cell_type": "markdown",
      "source": [
        "Zbuduj pętlę while, która pozwoli zatrzymać działanie algorytmu w momencie, gdy minimum zostanie odnalezione z zakładaną przez nas wartością precyzji lub gdy przekroczymy maksymalną liczbę iteracji.\n",
        "\n",
        "W odpowiedzi wydrukuj wynik do konsoli tak jak pokazano poniżej.\n",
        "\n",
        "Oczekiwany wynik:\n",
        "\n",
        "Local minimum at: 2.00"
      ],
      "metadata": {
        "id": "cO89Gm1Y_XSf"
      }
    },
    {
      "cell_type": "markdown",
      "source": [
        "Aby znaleźć minimum funkcji L należy poruszać się wzdłuż kierunku przeciwnego do kierunku wyznaczanego przez gradient funkcji L aktualizując wartość w_0 następująco:\n",
        "\n",
        "w_0 = w_0 - learning_rate * derivative(w_prev)\n",
        "\n",
        "gdzie w_prev jest punktem z poprzedniej iteracji. Dla pierwszego kroku jest to po prostu w_0."
      ],
      "metadata": {
        "id": "92NOfEa6AM5n"
      }
    },
    {
      "cell_type": "code",
      "source": [
        "max_iters = 10000\n",
        "iters = 0\n",
        "w_0 = -1\n",
        "previous_step_size = 1\n",
        "learning_rate = 0.01\n",
        "precision = 0.000001\n",
        "\n",
        "derivative = lambda w: 2 * w - 4\n",
        "\n",
        "while previous_step_size > precision and iters < max_iters:\n",
        "    w_prev = w_0\n",
        "    w_0 = w_0 - learning_rate * derivative(w_prev)\n",
        "    previous_step_size = abs(w_0 - w_prev)\n",
        "    iters += 1\n",
        "\n",
        "print(f\"Local minimum at: {w_0:.2f}\")"
      ],
      "metadata": {
        "colab": {
          "base_uri": "https://localhost:8080/"
        },
        "id": "FvlwYjGh_utN",
        "outputId": "8beb6c85-67ef-4ea9-e4a3-7cb0a7d82dd6"
      },
      "execution_count": null,
      "outputs": [
        {
          "output_type": "stream",
          "name": "stdout",
          "text": [
            "Local minimum at: 2.00\n"
          ]
        }
      ]
    },
    {
      "cell_type": "markdown",
      "source": [
        "Napisz program, który sprawdzi czy podany element target znajduje się w posortowanej liście numbers.\n",
        "\n",
        "Zasada działania algorytmu:\n",
        "1. Ustalamy indeks startowy (start) oraz końcowy (end) oraz flagę found = None.\n",
        "2. Dopóki indeks startowy jest nie większy niż indeks końcowy wybieramy środkowy indeks (mid) listy (średnia arytmetyczna indeksu startowego i końcowego -> należy pamiętać o skonwertowaniu wyniku funkcją int). Jeżeli indeks startowy jest większy niż indeks końcowy kończymy działanie algorytmu.\n",
        "3.  Sprawdzamy czy element listy dla tak obliczonego indeksu jest naszym szukanym (target). Jeżeli tak, ustawiamy flagę found na wartość True i kończymy działanie algorytmu. Jeżeli nie -> krok 4.\n",
        "4. Sprawdzamy, czy wartość elementu listy dla indeksu mid jest mniejsza niż target. Jeśli tak, to zwiększamy indeks startowy o 1. Jeśli nie, zmniejszamy indeks końcowy o 1 i przechodzimy do kroku 2.\n",
        "Po wykonaniu pętli while w zależności od wartości flagi found wydrukuj do konsoli tekst: 'Found', 'Not found'.\n",
        "\n",
        "Oczekiwany wynik:\n",
        "\n",
        "Found"
      ],
      "metadata": {
        "id": "Er9GZautBGNe"
      }
    },
    {
      "cell_type": "code",
      "source": [
        "numbers = [1, 2, 3, 4, 5, 6, 7, 8, 9]\n",
        "target = 7\n",
        "start = 0\n",
        "end = len(numbers) - 1\n",
        "flag = None\n",
        "\n",
        "while start <= end:\n",
        "  mid = int((start + end) / 2)\n",
        "\n",
        "  if numbers[mid] == target:\n",
        "    flag = True\n",
        "    break\n",
        "\n",
        "  if numbers[mid] < target:\n",
        "    start += 1\n",
        "  else:\n",
        "    start -+ 1\n",
        "    mid = int((start + end) / 2)\n",
        "\n",
        "if flag is None:\n",
        "  print('Not found')\n",
        "elif flag is True:\n",
        "  print('Found')\n",
        "\n"
      ],
      "metadata": {
        "id": "DuzPpUImBHww",
        "colab": {
          "base_uri": "https://localhost:8080/"
        },
        "outputId": "0e8a2d26-3891-4e4e-d7e4-d7ab6112e869"
      },
      "execution_count": null,
      "outputs": [
        {
          "output_type": "stream",
          "name": "stdout",
          "text": [
            "Found\n"
          ]
        }
      ]
    },
    {
      "cell_type": "markdown",
      "source": [
        "Wykorzystując pętlę while oblicz pierwiastek kwadratowy z podanej liczby.\n",
        "\n",
        "Number oznacza liczbę z której chcemy policzyć pierwiastek kwadratowy, zaś zmienna guess oznacza nasze przypuszczenie. Przypuszczamy, że pierwiastkiem kwadratowym liczby number jest guess.\n",
        "\n",
        "Zbuduj rozwiązanie w oparciu o podany opis algorytmu (metoda Newtona-Raphsona). Do algorytmu definiujemy dodatkowe dwie zmienne:\n",
        "\n",
        "epsilon = 0.01\n",
        "iteration = 0\n",
        "\n",
        "Pętla while będzie się wykonywać, dopóki wartość bezwzględna różnicy między guess ** 2 a number będzie większa lub równa epsilon. W każdej iteracji zmieniana jest wartość zmiennej guess na nową wartość, obliczaną na podstawie aktualnej wartości guess i number według wzoru:\n",
        "\n",
        "guess = guess - (guess**2 - number) / (2 * guess)\n",
        "\n",
        "W każdej iteracji zmienna iteration jest zwiększana o 1, a szacowana wartość pierwiastka z dokładnością do sześciu miejsc po przecinku jest wyświetlana przy użyciu funkcji print() wykorzystując poniższy komunikat:\n",
        "\n",
        "Iteration {iteration}: Estimated square root value = {guess:.6f}\n",
        "\n",
        "Po zakończeniu pętli, wyświetlana jest szacowana wartość pierwiastka kwadratowego z podanej liczby z dokładnością do dziesięciu miejsc po przecinku tak jak pokazano poniżej\n",
        "\n",
        "Oczekiwany wynik:\n",
        "\n",
        "Iteration 1: Estimated square root value = 6.250000\n",
        "Iteration 2: Estimated square root value = 5.125000\n",
        "Iteration 3: Estimated square root value = 5.001524\n",
        "Iteration 4: Estimated square root value = 5.000000\n",
        "Estimated square root of 25 is 5.0000002323"
      ],
      "metadata": {
        "id": "Wq5KIbb5DyKR"
      }
    },
    {
      "cell_type": "code",
      "source": [
        "number = 25\n",
        "guess = 10\n",
        "epsilon = 0.01\n",
        "iteration = 0\n",
        "\n",
        "while abs(guess ** 2 - number) >= epsilon:\n",
        "  guess = guess - (guess**2 - number) / (2 * guess)\n",
        "  iteration += 1\n",
        "  print(f'Iteration {iteration}: Estimated square root value = {guess:.6f}')\n",
        "\n",
        "print(f'Estimated square root of {number} is {guess:.10f}')"
      ],
      "metadata": {
        "id": "k-gn-kcbEsTW",
        "colab": {
          "base_uri": "https://localhost:8080/"
        },
        "outputId": "a51f5543-b13f-40a8-b55c-cb421ecb06ad"
      },
      "execution_count": 5,
      "outputs": [
        {
          "output_type": "stream",
          "name": "stdout",
          "text": [
            "Iteration 1: Estimated square root value = 6.250000\n",
            "Iteration 2: Estimated square root value = 5.125000\n",
            "Iteration 3: Estimated square root value = 5.001524\n",
            "Iteration 4: Estimated square root value = 5.000000\n",
            "Estimated square root of 25 is 5.0000002323\n"
          ]
        }
      ]
    },
    {
      "cell_type": "markdown",
      "source": [
        "Napisz program przy pomocy pętli while, który wyświetla kolejne elementy ciągu Fibonacciego aż do momentu przekroczenia zadanej wartości limit:\n",
        "\n",
        "limit = 100\n",
        "\n",
        "Kolejne wartości ciągu Fibonacciego wydrukuj do konsoli."
      ],
      "metadata": {
        "id": "ZzDrWCNRID15"
      }
    },
    {
      "cell_type": "code",
      "source": [
        "limit = 100\n",
        "number = 0\n",
        "val_0 = 0\n",
        "val_1 = 1\n",
        "\n",
        "while val_0 < limit:\n",
        "  print(val_0)\n",
        "  val_0, val_1 = val_1, val_0 + val_1\n"
      ],
      "metadata": {
        "colab": {
          "base_uri": "https://localhost:8080/"
        },
        "id": "7wWUZim-IK7x",
        "outputId": "91fcf74b-0f5a-4d12-d645-0db856a5edd7"
      },
      "execution_count": 6,
      "outputs": [
        {
          "output_type": "stream",
          "name": "stdout",
          "text": [
            "0\n",
            "1\n",
            "1\n",
            "2\n",
            "3\n",
            "5\n",
            "8\n",
            "13\n",
            "21\n",
            "34\n",
            "55\n",
            "89\n"
          ]
        }
      ]
    },
    {
      "cell_type": "markdown",
      "source": [
        "Napisz program, który przy użyciu pętli while oblicza silnię z danej liczby całkowitej number:\n",
        "\n",
        "number = 5\n",
        "\n",
        "Wynik wydrukuj do konsoli tak jak pokazano poniżej.\n",
        "\n",
        "Oczekiwany wynik:\n",
        "\n",
        "The factorial is: 120"
      ],
      "metadata": {
        "id": "D3BsNk0zJ2Rj"
      }
    },
    {
      "cell_type": "code",
      "source": [
        "number = 5\n",
        "factorial = 1\n",
        "start = 1\n",
        "\n",
        "while number > 0:\n",
        "  factorial *= number\n",
        "  number -= 1\n",
        "\n",
        "\n",
        "print(f'The factorial is {factorial}')"
      ],
      "metadata": {
        "colab": {
          "base_uri": "https://localhost:8080/"
        },
        "id": "LQ1v-jW3J4cC",
        "outputId": "f1954ef7-fb86-4625-f0fa-4af37ce714c0"
      },
      "execution_count": 14,
      "outputs": [
        {
          "output_type": "stream",
          "name": "stdout",
          "text": [
            "The factorial is 120\n"
          ]
        }
      ]
    },
    {
      "cell_type": "code",
      "source": [],
      "metadata": {
        "id": "H3-Z6sL-KmLl"
      },
      "execution_count": null,
      "outputs": []
    }
  ]
}