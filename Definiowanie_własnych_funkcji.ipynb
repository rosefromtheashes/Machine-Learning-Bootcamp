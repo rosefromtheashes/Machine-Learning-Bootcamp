{
  "nbformat": 4,
  "nbformat_minor": 0,
  "metadata": {
    "colab": {
      "provenance": [],
      "authorship_tag": "ABX9TyNpHOdy8KiXIXHwO1QvQTOD",
      "include_colab_link": true
    },
    "kernelspec": {
      "name": "python3",
      "display_name": "Python 3"
    },
    "language_info": {
      "name": "python"
    }
  },
  "cells": [
    {
      "cell_type": "markdown",
      "metadata": {
        "id": "view-in-github",
        "colab_type": "text"
      },
      "source": [
        "<a href=\"https://colab.research.google.com/github/rosefromtheashes/Machine-Learning-Bootcamp/blob/main/Definiowanie_w%C5%82asnych_funkcji.ipynb\" target=\"_parent\"><img src=\"https://colab.research.google.com/assets/colab-badge.svg\" alt=\"Open In Colab\"/></a>"
      ]
    },
    {
      "cell_type": "markdown",
      "source": [
        "Zdefiniuj funkcję o nazwie maximum(), która zwróci maksimum z dwóch liczb."
      ],
      "metadata": {
        "id": "sZSSgeQUdGwG"
      }
    },
    {
      "cell_type": "code",
      "execution_count": null,
      "metadata": {
        "id": "UF-OOVIVP5z7"
      },
      "outputs": [],
      "source": [
        "def maximum(x, y):\n",
        "  return max(x, y)"
      ]
    },
    {
      "cell_type": "markdown",
      "source": [
        "Zdefiniuj funkcję o nazwie maximum(), która zwróci maksimum z trzech liczb. W rozwiązaniu nie używaj funkcji wbudowanych."
      ],
      "metadata": {
        "id": "mmbjcthndvCS"
      }
    },
    {
      "cell_type": "code",
      "source": [
        "def maximum(x, y, z):\n",
        "  if x > y and x > z:\n",
        "    return x\n",
        "  elif y > x and y > z:\n",
        "    return y\n",
        "  else:\n",
        "    return z"
      ],
      "metadata": {
        "id": "Hgm4GYD0dwDV"
      },
      "execution_count": null,
      "outputs": []
    },
    {
      "cell_type": "markdown",
      "source": [
        "Zdefiniuj funkcję o nazwie multi(), która jako parametr przyjmie obiekt iterowalny (list, tuple) oraz zwróci iloczyn wszystkich elementów listy.\n"
      ],
      "metadata": {
        "id": "4M-nOrJ_eINP"
      }
    },
    {
      "cell_type": "code",
      "source": [
        "def multi(iterable):\n",
        "    iloczyn = 1\n",
        "    for liczba in iterable:\n",
        "        iloczyn *= liczba\n",
        "    return iloczyn\n"
      ],
      "metadata": {
        "id": "1Ws4Rc43eI9j"
      },
      "execution_count": null,
      "outputs": []
    },
    {
      "cell_type": "markdown",
      "source": [
        "Napisz funkcję o nazwie map_longest(), która przyjmie listę słów i zwróci długość najdłuższego słowa."
      ],
      "metadata": {
        "id": "CSc2XSG4jrbq"
      }
    },
    {
      "cell_type": "code",
      "source": [
        "def map_longest(words): #w nawiasie przyjmujemy argument words\n",
        "  return max(map(len, words)) #mapujemy po długościach argumentów\n",
        "map_longest(['python', 'sql'])"
      ],
      "metadata": {
        "id": "oAD3FsN5fSAe",
        "colab": {
          "base_uri": "https://localhost:8080/"
        },
        "outputId": "f9dcaaac-bf45-405e-d6f3-c046d7ce58f7"
      },
      "execution_count": 6,
      "outputs": [
        {
          "output_type": "execute_result",
          "data": {
            "text/plain": [
              "6"
            ]
          },
          "metadata": {},
          "execution_count": 6
        }
      ]
    },
    {
      "cell_type": "markdown",
      "source": [
        "Napisz funkcję o nazwie filter_ge_6(), która przyjmie listę słów i zwróci słowa o długości większej lub równej 6 znaków."
      ],
      "metadata": {
        "id": "FizelkGx2U4j"
      }
    },
    {
      "cell_type": "code",
      "source": [
        "def filter_ge_6(words):\n",
        "  filtered_words = []\n",
        "  for word in words:\n",
        "    if len(word) >= 6:\n",
        "      filtered_words.append(word)\n",
        "  return filtered_words #pamiętaj o returnie\n",
        "\n",
        "print(filter_ge_6(['programowanie', 'python', 'java', 'sql']))"
      ],
      "metadata": {
        "id": "lUi5m67P2Yb9",
        "outputId": "e0a3be65-6518-439d-a6fc-89a8cad3953d",
        "colab": {
          "base_uri": "https://localhost:8080/"
        }
      },
      "execution_count": 12,
      "outputs": [
        {
          "output_type": "stream",
          "name": "stdout",
          "text": [
            "['programowanie', 'python']\n"
          ]
        }
      ]
    },
    {
      "cell_type": "markdown",
      "source": [
        "Napisz funkcję o nazwie factorial(), która obliczy wartość silni z danej liczby."
      ],
      "metadata": {
        "id": "WybGtX8j4EYR"
      }
    },
    {
      "cell_type": "code",
      "source": [
        "#algorytm rekurencyjny rozpisany\n",
        "def factorial(number):\n",
        "  if number > 1:\n",
        "    return number * factorial(number - 1)\n",
        "  return 1\n",
        "\n",
        "print(factorial(6))"
      ],
      "metadata": {
        "id": "YS_KXF1B4FGy",
        "outputId": "0ebed1a6-d98c-401c-9e21-28b143598ecb",
        "colab": {
          "base_uri": "https://localhost:8080/"
        }
      },
      "execution_count": 13,
      "outputs": [
        {
          "output_type": "stream",
          "name": "stdout",
          "text": [
            "720\n"
          ]
        }
      ]
    },
    {
      "cell_type": "markdown",
      "source": [
        "Funkcja jest wywoływana z argumentem 6.\n",
        "\n",
        "Warunek if number > 1: jest spełniony (6 > 1), więc następuje wywołanie return number * factorial(number - 1).\n",
        "\n",
        "Wewnątrz tego wyrażenia factorial(number - 1) jest wywołanie funkcji factorial() z argumentem 5.\n",
        "\n",
        "Teraz funkcja factorial(5) jest wywoływana, i cały proces powtarza się dla liczby 5.\n",
        "\n",
        "Proces powtarza się aż do momentu, gdy zostanie osiągnięty warunek brzegowy number <= 1.\n",
        "\n",
        "Kiedy number osiągnie wartość 1 lub mniejszą, warunek brzegowy jest spełniony, a funkcja zwraca 1."
      ],
      "metadata": {
        "id": "ZDKTpg4t9Mam"
      }
    },
    {
      "cell_type": "markdown",
      "source": [],
      "metadata": {
        "id": "Tw-3GVS29SNt"
      }
    },
    {
      "cell_type": "markdown",
      "source": [
        "Napisz funkcję count_str(), która zwróci liczbę obiektów typu str w obiekcie iterowalnym (list, tuple, set)."
      ],
      "metadata": {
        "id": "jysGApjf9dTi"
      }
    },
    {
      "cell_type": "code",
      "source": [
        "def count_str(words):\n",
        "  words_list = []\n",
        "  for word in words:\n",
        "    if isinstance(word, str):\n",
        "      words_list.append(word)\n",
        "  return len(words_list)\n",
        "\n",
        "count_str(['p', 2, 4.3, None])\n",
        "count_str({'p', 2, 4.3, True, 'True', None})"
      ],
      "metadata": {
        "id": "SQ6EpJRt9ekk",
        "outputId": "54e6d14b-4cce-4ad9-d5e0-d5cc7dd18f2d",
        "colab": {
          "base_uri": "https://localhost:8080/"
        }
      },
      "execution_count": 18,
      "outputs": [
        {
          "output_type": "execute_result",
          "data": {
            "text/plain": [
              "2"
            ]
          },
          "metadata": {},
          "execution_count": 18
        }
      ]
    },
    {
      "cell_type": "markdown",
      "source": [
        "Napisz funkcję count_str(), która zwróci liczbę obiektów typu str o długości powyżej 2 znaków w obiekcie iterowalnym (lista, tuple, set)."
      ],
      "metadata": {
        "id": "ow-jsMJf-iYE"
      }
    },
    {
      "cell_type": "code",
      "source": [
        "def count_str(words):\n",
        "  words_list = []\n",
        "  for word in words:\n",
        "    if isinstance(word, str) and len(word) > 2:\n",
        "      words_list.append(word)\n",
        "  return len(words_list)\n",
        "\n",
        "count_str([1, '#hello', '', 'python', 'go'])"
      ],
      "metadata": {
        "id": "Jc2fjeCW-ja_",
        "outputId": "6b571d86-d8da-4c16-c0cc-e8962fea648f",
        "colab": {
          "base_uri": "https://localhost:8080/"
        }
      },
      "execution_count": 21,
      "outputs": [
        {
          "output_type": "execute_result",
          "data": {
            "text/plain": [
              "2"
            ]
          },
          "metadata": {},
          "execution_count": 21
        }
      ]
    },
    {
      "cell_type": "markdown",
      "source": [
        "Napisz funkcję remove_duplicates(), która usunie duplikaty z listy (kolejność elementów nie musi być zachowana)."
      ],
      "metadata": {
        "id": "-WfgYu12_VPO"
      }
    },
    {
      "cell_type": "code",
      "source": [
        "def remove_duplicates(elements):\n",
        "  unique_elements = []\n",
        "  for element in elements:\n",
        "    if element not in unique_elements:\n",
        "      unique_elements.append(element)\n",
        "  return unique_elements\n",
        "\n",
        "remove_duplicates([1, 5, 3, 2, 2, 4, 2, 4])"
      ],
      "metadata": {
        "id": "oloDsliZ_WXC",
        "outputId": "a904ec12-f22d-4d39-ceda-7b74808363ce",
        "colab": {
          "base_uri": "https://localhost:8080/"
        }
      },
      "execution_count": 23,
      "outputs": [
        {
          "output_type": "execute_result",
          "data": {
            "text/plain": [
              "[1, 5, 3, 2, 4]"
            ]
          },
          "metadata": {},
          "execution_count": 23
        }
      ]
    },
    {
      "cell_type": "markdown",
      "source": [
        "Napisz funkcję is_distinct(), która sprawdzi, czy lista zawiera unikalne wartości."
      ],
      "metadata": {
        "id": "X5CDBy78BVjm"
      }
    },
    {
      "cell_type": "code",
      "source": [
        "def is_distinct(elements):\n",
        "  unique_elements = []\n",
        "  for element in elements:\n",
        "    if element not in unique_elements:\n",
        "      unique_elements.append(element)\n",
        "  if len(unique_elements) == len(elements):\n",
        "    return True\n",
        "  else:\n",
        "      return False\n",
        "is_distinct([1, 2, 3])\n"
      ],
      "metadata": {
        "id": "weHUxypCBWax",
        "outputId": "0c064726-2f19-4bca-8539-7f61b4d20bf1",
        "colab": {
          "base_uri": "https://localhost:8080/"
        }
      },
      "execution_count": 25,
      "outputs": [
        {
          "output_type": "execute_result",
          "data": {
            "text/plain": [
              "True"
            ]
          },
          "metadata": {},
          "execution_count": 25
        }
      ]
    },
    {
      "cell_type": "code",
      "source": [
        "def function(idx, l=[]):\n",
        "    for i in range(idx):\n",
        "        l.append(i ** 3)\n",
        "    print(l)\n",
        "\n",
        "function(3)\n",
        "function(5, ['a', 'b', 'c'])\n",
        "function(6)"
      ],
      "metadata": {
        "id": "arq6ne1QESEY",
        "outputId": "0aa6b1a9-865c-4682-e3d1-d1222d8e6d8f",
        "colab": {
          "base_uri": "https://localhost:8080/"
        }
      },
      "execution_count": 26,
      "outputs": [
        {
          "output_type": "stream",
          "name": "stdout",
          "text": [
            "[0, 1, 8]\n",
            "['a', 'b', 'c', 0, 1, 8, 27, 64]\n",
            "[0, 1, 8, 0, 1, 8, 27, 64, 125]\n"
          ]
        }
      ]
    },
    {
      "cell_type": "markdown",
      "source": [
        "Poprawna implementacja funkcji - ustawienie wartości None."
      ],
      "metadata": {
        "id": "M77dxIOIEzmI"
      }
    },
    {
      "cell_type": "code",
      "source": [
        "def function(idx, l=None):\n",
        "    if l is None:\n",
        "        l = []\n",
        "    for i in range(idx):\n",
        "        l.append(i ** 3)\n",
        "    print(l)\n",
        "\n",
        "\n",
        "function(3)\n",
        "function(5, ['a', 'b', 'c'])\n",
        "function(6)"
      ],
      "metadata": {
        "id": "wQstXhmdE0TF",
        "outputId": "93e66f51-7cce-47ce-ab72-53ae1b4a416e",
        "colab": {
          "base_uri": "https://localhost:8080/"
        }
      },
      "execution_count": 27,
      "outputs": [
        {
          "output_type": "stream",
          "name": "stdout",
          "text": [
            "[0, 1, 8]\n",
            "['a', 'b', 'c', 0, 1, 8, 27, 64]\n",
            "[0, 1, 8, 27, 64, 125]\n"
          ]
        }
      ]
    },
    {
      "cell_type": "code",
      "source": [
        "def function(*args, **kwargs):\n",
        "    print('args:', args)\n",
        "    print('kwargs:', kwargs)\n",
        "\n",
        "function(3, 4)\n",
        "function(x=3, y=4)\n",
        "function(1, 2, x=3, y=4)"
      ],
      "metadata": {
        "id": "dfChWbJ-FBat",
        "outputId": "0db90d61-71fd-4c89-df44-a987f60a7b29",
        "colab": {
          "base_uri": "https://localhost:8080/"
        }
      },
      "execution_count": 28,
      "outputs": [
        {
          "output_type": "stream",
          "name": "stdout",
          "text": [
            "args: (3, 4)\n",
            "kwargs: {}\n",
            "args: ()\n",
            "kwargs: {'x': 3, 'y': 4}\n",
            "args: (1, 2)\n",
            "kwargs: {'x': 3, 'y': 4}\n"
          ]
        }
      ]
    },
    {
      "cell_type": "markdown",
      "source": [
        "Zdefiniuj funkcję is_palindrome(), która za argument przyjmie obiekt typu str i sprawdzi czy podany ciąg znaków jest palindromem (wyrażenie brzmiące tak samo czytane od lewej do prawej i od prawej do lewej). Jeżeli tak, funkcja ma zwracać wartość logiczną True, przeciwnie False."
      ],
      "metadata": {
        "id": "V0g2u5cNFop3"
      }
    },
    {
      "cell_type": "code",
      "source": [
        "def is_palindrome(word):\n",
        "  if isinstance(word, str):\n",
        "    if word == word[::-1]:\n",
        "      return True\n",
        "    else:\n",
        "      return False\n",
        "is_palindrome('kajak')"
      ],
      "metadata": {
        "id": "qTjqIi7iFpve",
        "outputId": "105abcda-ce24-47e4-80b8-286ba21e2297",
        "colab": {
          "base_uri": "https://localhost:8080/"
        }
      },
      "execution_count": 29,
      "outputs": [
        {
          "output_type": "execute_result",
          "data": {
            "text/plain": [
              "True"
            ]
          },
          "metadata": {},
          "execution_count": 29
        }
      ]
    }
  ]
}