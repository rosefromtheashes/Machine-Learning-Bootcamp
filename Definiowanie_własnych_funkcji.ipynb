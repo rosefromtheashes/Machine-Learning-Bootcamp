{
  "cells": [
    {
      "cell_type": "markdown",
      "metadata": {
        "id": "view-in-github",
        "colab_type": "text"
      },
      "source": [
        "<a href=\"https://colab.research.google.com/github/rosefromtheashes/Machine-Learning-Bootcamp/blob/main/Definiowanie_w%C5%82asnych_funkcji.ipynb\" target=\"_parent\"><img src=\"https://colab.research.google.com/assets/colab-badge.svg\" alt=\"Open In Colab\"/></a>"
      ]
    },
    {
      "cell_type": "markdown",
      "metadata": {
        "id": "sZSSgeQUdGwG"
      },
      "source": [
        "Zdefiniuj funkcję o nazwie maximum(), która zwróci maksimum z dwóch liczb."
      ]
    },
    {
      "cell_type": "code",
      "execution_count": null,
      "metadata": {
        "id": "UF-OOVIVP5z7"
      },
      "outputs": [],
      "source": [
        "def maximum(x, y):\n",
        "  return max(x, y)"
      ]
    },
    {
      "cell_type": "markdown",
      "metadata": {
        "id": "mmbjcthndvCS"
      },
      "source": [
        "Zdefiniuj funkcję o nazwie maximum(), która zwróci maksimum z trzech liczb. W rozwiązaniu nie używaj funkcji wbudowanych."
      ]
    },
    {
      "cell_type": "code",
      "execution_count": null,
      "metadata": {
        "id": "Hgm4GYD0dwDV"
      },
      "outputs": [],
      "source": [
        "def maximum(x, y, z):\n",
        "  if x > y and x > z:\n",
        "    return x\n",
        "  elif y > x and y > z:\n",
        "    return y\n",
        "  else:\n",
        "    return z"
      ]
    },
    {
      "cell_type": "markdown",
      "metadata": {
        "id": "4M-nOrJ_eINP"
      },
      "source": [
        "Zdefiniuj funkcję o nazwie multi(), która jako parametr przyjmie obiekt iterowalny (list, tuple) oraz zwróci iloczyn wszystkich elementów listy.\n"
      ]
    },
    {
      "cell_type": "code",
      "execution_count": null,
      "metadata": {
        "id": "1Ws4Rc43eI9j"
      },
      "outputs": [],
      "source": [
        "def multi(iterable):\n",
        "    iloczyn = 1\n",
        "    for liczba in iterable:\n",
        "        iloczyn *= liczba\n",
        "    return iloczyn\n"
      ]
    },
    {
      "cell_type": "markdown",
      "metadata": {
        "id": "CSc2XSG4jrbq"
      },
      "source": [
        "Napisz funkcję o nazwie map_longest(), która przyjmie listę słów i zwróci długość najdłuższego słowa."
      ]
    },
    {
      "cell_type": "code",
      "execution_count": null,
      "metadata": {
        "colab": {
          "background_save": true
        },
        "id": "oAD3FsN5fSAe",
        "outputId": "b86e3c2b-afd3-4cdb-8f1d-0d7cef55d359"
      },
      "outputs": [
        {
          "data": {
            "text/plain": [
              "6"
            ]
          },
          "execution_count": 4,
          "metadata": {},
          "output_type": "execute_result"
        }
      ],
      "source": [
        "def map_longest(*args):\n",
        "  for arg in args:\n",
        "    if arg == max(arg):\n",
        "      print(len(arg))\n",
        "\n",
        "map_longest(['python', 'sql'])\n",
        "\n"
      ]
    },
    {
      "cell_type": "markdown",
      "source": [
        "Napisz funkcję o nazwie filter_ge_6(), która przyjmie listę słów i zwróci słowa o długości większej lub równej 6 znaków."
      ],
      "metadata": {
        "id": "46kadyKOWOQw"
      }
    },
    {
      "cell_type": "code",
      "source": [
        "def filter_ge_6(words):\n",
        "  filtered_words = []\n",
        "  for word in words:\n",
        "    if len(word) >= 6:\n",
        "      filtered_words.append(word)\n",
        "  return filtered_words #pamiętaj o returnie"
      ],
      "metadata": {
        "id": "I469u8ELWO00"
      },
      "execution_count": null,
      "outputs": []
    },
    {
      "cell_type": "markdown",
      "source": [
        "Napisz funkcję o nazwie factorial(), która obliczy wartość silni z danej liczby."
      ],
      "metadata": {
        "id": "EYAmfQ08WVWZ"
      }
    },
    {
      "cell_type": "code",
      "source": [
        "def factorial(number):\n",
        "  if number > 1:\n",
        "    return number * factorial(number - 1)\n",
        "  return 1"
      ],
      "metadata": {
        "id": "CvWBfgCqXTX-"
      },
      "execution_count": null,
      "outputs": []
    },
    {
      "cell_type": "markdown",
      "source": [
        "Napisz funkcję count_str(), która zwróci liczbę obiektów typu str w obiekcie iterowalnym (list, tuple, set)."
      ],
      "metadata": {
        "id": "Cpd7QIUvXVnA"
      }
    },
    {
      "cell_type": "code",
      "source": [
        "def count_str(words):\n",
        "  words_list = []\n",
        "  for word in words:\n",
        "    if isinstance(word, str):\n",
        "      words_list.append(word)\n",
        "  return len(words_list)"
      ],
      "metadata": {
        "id": "0u_R4oqCXZeK"
      },
      "execution_count": null,
      "outputs": []
    },
    {
      "cell_type": "markdown",
      "source": [
        "Napisz funkcję count_str(), która zwróci liczbę obiektów typu str o długości powyżej 2 znaków w obiekcie iterowalnym (lista, tuple, set)."
      ],
      "metadata": {
        "id": "WNnLpAogXb-m"
      }
    },
    {
      "cell_type": "code",
      "source": [
        "def count_str(words):\n",
        "  words_list = []\n",
        "  for word in words:\n",
        "    if isinstance(word, str) and len(word) > 2:\n",
        "      words_list.append(word)\n",
        "  return len(words_list)"
      ],
      "metadata": {
        "id": "xsT7oXOnXbeD"
      },
      "execution_count": null,
      "outputs": []
    },
    {
      "cell_type": "markdown",
      "source": [
        "Napisz funkcję remove_duplicates(), która usunie duplikaty z listy (kolejność elementów nie musi być zachowana)."
      ],
      "metadata": {
        "id": "EpRN_F2pXjym"
      }
    },
    {
      "cell_type": "code",
      "source": [
        "def remove_duplicates(elements):\n",
        "  unique_elements = []\n",
        "  for element in elements:\n",
        "    if element not in unique_elements:\n",
        "      unique_elements.append(element)\n",
        "  return unique_elements"
      ],
      "metadata": {
        "id": "J6M_oeLLXpNJ"
      },
      "execution_count": null,
      "outputs": []
    },
    {
      "cell_type": "markdown",
      "source": [
        "Napisz funkcję is_distinct(), która sprawdzi, czy lista zawiera unikalne wartości."
      ],
      "metadata": {
        "id": "TkLNatxgXrCx"
      }
    },
    {
      "cell_type": "code",
      "source": [
        "def is_distinct(elements):\n",
        "  unique_elements = []\n",
        "  for element in elements:\n",
        "    if element not in unique_elements:\n",
        "      unique_elements.append(element)\n",
        "  if len(unique_elements) == len(elements):\n",
        "    return True\n",
        "  else:\n",
        "      return False"
      ],
      "metadata": {
        "id": "yVyHQ44tXuRD"
      },
      "execution_count": null,
      "outputs": []
    },
    {
      "cell_type": "markdown",
      "source": [
        "def function(idx, l=[]):\n",
        "    for i in range(idx):\n",
        "        l.append(i ** 3)\n",
        "    print(l)\n",
        "\n",
        "\n",
        "function(3)\n",
        "function(5, ['a', 'b', 'c'])\n",
        "function(6)"
      ],
      "metadata": {
        "id": "6Pqb8ODgXwjO"
      }
    },
    {
      "cell_type": "markdown",
      "source": [
        "Poprawna implementacja funkcji - ustawienie wartości None.\n",
        "\n"
      ],
      "metadata": {
        "id": "QN8bd5mCX3hu"
      }
    },
    {
      "cell_type": "code",
      "source": [
        "def function(idx, l=None):\n",
        "    if l is None:\n",
        "        l = []\n",
        "    for i in range(idx):\n",
        "        l.append(i ** 3)\n",
        "    print(l)"
      ],
      "metadata": {
        "id": "zpEqxJl0X7u4"
      },
      "execution_count": null,
      "outputs": []
    },
    {
      "cell_type": "code",
      "source": [
        "def function(*args, **kwargs):\n",
        "    print('args:', args)\n",
        "    print('kwargs:', kwargs)\n",
        "\n",
        "\n",
        "function(3, 4)\n",
        "function(x=3, y=4)\n",
        "function(1, 2, x=3, y=4)"
      ],
      "metadata": {
        "id": "V2ApP2cfYA9k"
      },
      "execution_count": null,
      "outputs": []
    },
    {
      "cell_type": "markdown",
      "source": [
        "Zdefiniuj funkcję is_palindrome(), która za argument przyjmie obiekt typu str i sprawdzi czy podany ciąg znaków jest palindromem (wyrażenie brzmiące tak samo czytane od lewej do prawej i od prawej do lewej). Jeżeli tak, funkcja ma zwracać wartość logiczną True, przeciwnie False."
      ],
      "metadata": {
        "id": "iE5MZ5INYF_O"
      }
    },
    {
      "cell_type": "code",
      "source": [
        "def is_palindrome(word):\n",
        "  if isinstance(word, str):\n",
        "    if word == word[::-1]:\n",
        "      return True\n",
        "    else:\n",
        "      return False"
      ],
      "metadata": {
        "id": "wob83s1dYJRh"
      },
      "execution_count": null,
      "outputs": []
    }
  ],
  "metadata": {
    "colab": {
      "provenance": [],
      "authorship_tag": "ABX9TyMm6gkFQAfqBKurZLVrY7Jz",
      "include_colab_link": true
    },
    "kernelspec": {
      "display_name": "Python 3",
      "name": "python3"
    },
    "language_info": {
      "name": "python"
    }
  },
  "nbformat": 4,
  "nbformat_minor": 0
}