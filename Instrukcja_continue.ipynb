{
  "nbformat": 4,
  "nbformat_minor": 0,
  "metadata": {
    "colab": {
      "provenance": [],
      "authorship_tag": "ABX9TyM+Z4MfE8tlsthZix7NJ+i0",
      "include_colab_link": true
    },
    "kernelspec": {
      "name": "python3",
      "display_name": "Python 3"
    },
    "language_info": {
      "name": "python"
    }
  },
  "cells": [
    {
      "cell_type": "markdown",
      "metadata": {
        "id": "view-in-github",
        "colab_type": "text"
      },
      "source": [
        "<a href=\"https://colab.research.google.com/github/rosefromtheashes/Machine-Learning-Bootcamp/blob/main/Instrukcja_continue.ipynb\" target=\"_parent\"><img src=\"https://colab.research.google.com/assets/colab-badge.svg\" alt=\"Open In Colab\"/></a>"
      ]
    },
    {
      "cell_type": "markdown",
      "source": [
        "Używając instrukcji continue zbuduj pętlę, która pozwoli zmienić ceny zamknięcia wyrażone w USD na ceny wyrażone w PLN. Przyjmij kurs USDPLN = 4.0.\n",
        "\n",
        "W odpowiedzi słownik gaming wydrukuj do konsoli."
      ],
      "metadata": {
        "id": "yNZynxAXBS-p"
      }
    },
    {
      "cell_type": "code",
      "execution_count": 2,
      "metadata": {
        "colab": {
          "base_uri": "https://localhost:8080/"
        },
        "id": "EXNZoK-aBPnr",
        "outputId": "1de404f8-2bab-4b5c-a138-d23215b559ce"
      },
      "outputs": [
        {
          "output_type": "stream",
          "name": "stdout",
          "text": [
            "{'11B': [362.5, 'PLN'], 'CDR': [297.0, 'PLN'], 'CIG': [0.85, 'PLN'], 'PLW': [318.0, 'PLN'], 'TEN': [300.0, 'PLN']}\n"
          ]
        }
      ],
      "source": [
        "gaming = {\n",
        "    '11B': [362.5, 'PLN'],\n",
        "    'CDR': [74.25, 'USD'],\n",
        "    'CIG': [0.85, 'PLN'],\n",
        "    'PLW': [79.5, 'USD'],\n",
        "    'TEN': [300.0, 'PLN']\n",
        "}\n",
        "\n",
        "USDPLN = 4.0 #ustawiam kurs wymiany\n",
        "\n",
        "for company, data in gaming.items(): #otwieram słownik, nazywając klucz i listę, która jest wartością\n",
        "  price, currency = data # nazywam elementy w słowniku\n",
        "  if currency == 'USD':\n",
        "    price_PLN = price * USDPLN #definuję kurs wymiany\n",
        "    gaming[company][0] = price_PLN\n",
        "    gaming[company][1] = 'PLN'\n",
        "  else:\n",
        "    continue\n",
        "\n",
        "print(gaming)\n"
      ]
    },
    {
      "cell_type": "markdown",
      "source": [
        "Lista składa się tylko z obiektów typu str lub wartości None. Posługując się instrukcją continue wydrukuj do konsoli tylko poprawnie przekazane imiona (obiekty typu str)."
      ],
      "metadata": {
        "id": "9IIWT4iyFKq9"
      }
    },
    {
      "cell_type": "code",
      "source": [
        "names = ['Jack', 'Leon', 'Alice', None, 'Bob']\n",
        "\n",
        "for name in names:\n",
        "  if name is None:\n",
        "    continue\n",
        "  print(name)\n",
        "\n",
        "\n"
      ],
      "metadata": {
        "colab": {
          "base_uri": "https://localhost:8080/"
        },
        "id": "vQBcxWK2FLeA",
        "outputId": "34a65531-cf67-4bb0-97da-1689656f627e"
      },
      "execution_count": 11,
      "outputs": [
        {
          "output_type": "stream",
          "name": "stdout",
          "text": [
            "Jack\n",
            "Leon\n",
            "Alice\n",
            "Bob\n"
          ]
        }
      ]
    },
    {
      "cell_type": "markdown",
      "source": [
        "Potrzebujesz wydrukować tekst każdego posta z pominięciem postów, które mają mniej niż 50 polubień. W rozwiązaniu skorzystaj z pętli for oraz instrukcji continue."
      ],
      "metadata": {
        "id": "ilW4xnv4Gdd_"
      }
    },
    {
      "cell_type": "code",
      "source": [
        "posts = [\n",
        "    {\n",
        "        'text': 'Lorem ipsum dolor sit amet, consectetur elit.',\n",
        "        'author': 'John',\n",
        "        'likes': 32,\n",
        "    },\n",
        "    {\n",
        "        'text': 'Nulla facilisi. Duis eu aliquam libero.',\n",
        "        'author': 'Jane',\n",
        "        'likes': 87,\n",
        "    },\n",
        "    {\n",
        "        'text': 'Vestibulum at ipsum ac diam sollicitudin tempor.',\n",
        "        'author': 'Bob',\n",
        "        'likes': 113,\n",
        "    },\n",
        "    {\n",
        "        'text': 'Curabitur lobortis luctus velit, et scelerisque eu.',\n",
        "        'author': 'Alice',\n",
        "        'likes': 24,\n",
        "    },\n",
        "    {\n",
        "        'text': 'Suspendisse nec enim rutrum, vehicula lectus ut.',\n",
        "        'author': 'Mike',\n",
        "        'likes': 99,\n",
        "    },\n",
        "]\n",
        "\n",
        "for post in posts:\n",
        "  if post['likes'] < 50:\n",
        "    continue\n",
        "  print(post['text'])"
      ],
      "metadata": {
        "colab": {
          "base_uri": "https://localhost:8080/"
        },
        "id": "LAnwgwIEGeNT",
        "outputId": "b386e985-5d10-4326-a49e-ab5b4c185e82"
      },
      "execution_count": 14,
      "outputs": [
        {
          "output_type": "stream",
          "name": "stdout",
          "text": [
            "Nulla facilisi. Duis eu aliquam libero.\n",
            "Vestibulum at ipsum ac diam sollicitudin tempor.\n",
            "Suspendisse nec enim rutrum, vehicula lectus ut.\n"
          ]
        }
      ]
    },
    {
      "cell_type": "markdown",
      "source": [
        "Utwórz listę zawierającą parę indeksów (wiersz, kolumna) dla wszystkich elementów 'E' występujących w labiryncie i przypisz do zmiennej index_pairs. W rozwiązaniu wykorzystaj pętlę for oraz instrukcję continue."
      ],
      "metadata": {
        "id": "zH8Aiq8GHFr9"
      }
    },
    {
      "cell_type": "code",
      "source": [
        "maze = [\n",
        "    ['W', 'W', 'W', 'W', 'W', 'W', 'W', 'W', 'W', 'W'],\n",
        "    ['W', 'E', 'E', 'E', 'W', 'E', 'E', 'E', 'E', 'W'],\n",
        "    ['W', 'E', 'W', 'E', 'W', 'E', 'W', 'W', 'E', 'W'],\n",
        "    ['W', 'E', 'W', 'E', 'E', 'E', 'W', 'E', 'E', 'W'],\n",
        "    ['W', 'E', 'W', 'E', 'W', 'E', 'W', 'E', 'W', 'W'],\n",
        "    ['W', 'E', 'E', 'E', 'W', 'E', 'W', 'E', 'E', 'W'],\n",
        "    ['W', 'W', 'W', 'W', 'W', 'W', 'W', 'W', 'W', 'W'],\n",
        "]\n",
        "\n",
        "index_pairs = [] #otwieramy pustą listę, w której będziemy zapiswywać indeksy\n",
        "\n",
        "for row in range(len(maze)): #dla każdego rzędu w długości listy maze\n",
        "    for col in range(len(maze[row])): #dla każdej kolumny w maze\n",
        "        if maze[row][col] == 'W': #jeżeli współrzędne dla ścian są zgodne\n",
        "            continue #kontynuuj\n",
        "        index_pairs.append([row, col]) #dodajemy współrzędne do listy"
      ],
      "metadata": {
        "id": "OCnP1TTjHGsl"
      },
      "execution_count": null,
      "outputs": []
    },
    {
      "cell_type": "markdown",
      "source": [
        "Potrzebujesz zasymulować bitwę, w której gracz atakuje kolejno każdego wroga z listy, ale pomija wrogów, którzy zostali już pokonani (tj. ich zdrowie - 'health' wynosi 0 lub mniej). W rozwiązaniu wykorzystaj pętlę for oraz instrukcję continue. W każdej iteracji sprawdź, czy zdrowie wroga wynosi 0 lub mniej. Jeśli tak, kod powinien pomijać bieżącą iterację pętli.\n",
        "\n",
        "Przyjmij, że każdy zasymulowany atak odbiera 25 punktów życia - zmienna player_damage:\n",
        "\n",
        "player_damage = 25\n",
        "\n",
        "Jeśli zdrowie wroga jest większe niż 0, kod wyświetla komunikat wskazujący, że gracz atakuje wroga, odejmuje obrażenia gracza od zdrowia wroga i wyświetla poniższy komunikat:\n",
        "'You attack the {enemy}'\n",
        "Następnie kod sprawdza, czy zdrowie wroga wynosi teraz 0 lub mniej. Jeśli tak, kod drukuje dodatkowo komunikat informujący, że gracz pokonał wroga:\n",
        "'You defeated the {enemy}'\n",
        "\n",
        "Oczekiwany wynik:\n",
        "\n",
        "You attack the Goblin\n",
        "You attack the Orc\n",
        "You attack the Troll\n",
        "You defeated the Troll\n",
        "You attack the Dragon"
      ],
      "metadata": {
        "id": "8CcpWwi8H8pa"
      }
    },
    {
      "cell_type": "code",
      "source": [
        "enemies = [\n",
        "    {'name': 'Goblin', 'health': 50, 'damage': 10},\n",
        "    {'name': 'Orc', 'health': 75, 'damage': 15},\n",
        "    {'name': 'Troll', 'health': 20, 'damage': 20},\n",
        "    {'name': 'Dwarf', 'health': 0, 'damage': 15},\n",
        "    {'name': 'Dragon', 'health': 200, 'damage': 30},\n",
        "]\n",
        "\n",
        "player_damage = 25\n",
        "\n",
        "for enemy in enemies:\n",
        "  if enemy['health'] <= 0:\n",
        "    continue\n",
        "\n",
        "  print(f\"You attack the {enemy['name']}\")\n",
        "  enemy['health'] -= player_damage\n",
        "\n",
        "  if enemy['health'] <= 0:\n",
        "        print(f\"You defeated the {enemy['name']}\")\n",
        ""
      ],
      "metadata": {
        "colab": {
          "base_uri": "https://localhost:8080/"
        },
        "id": "0dRFgV1KH9c6",
        "outputId": "ff2b9b70-a837-4505-c574-1ef104a29857"
      },
      "execution_count": 18,
      "outputs": [
        {
          "output_type": "stream",
          "name": "stdout",
          "text": [
            "You attack the Goblin\n",
            "You attack the Orc\n",
            "You attack the Troll\n",
            "You defeated the Troll\n",
            "You attack the Dragon\n"
          ]
        }
      ]
    },
    {
      "cell_type": "markdown",
      "source": [
        "Potrzebujesz obliczyć całkowity czas trwania połączeń wykonanych przez określonego rozmówcę - użytkownika o imieniu 'John', pomijając połączenia trwające krócej niż 1 minutę (60 sekund).\n",
        "\n",
        "caller_name = 'John'\n",
        "\n",
        "W rozwiązaniu wykorzystaj pętlę for oraz instrukcję continue. W odpowiedzi wydrukuj całkowity czas trwania połączeń do konsoli tak jak pokazano poniżej.\n",
        "\n",
        "Oczekiwany wynik:\n",
        "\n",
        "Total call duration for John, 195 seconds"
      ],
      "metadata": {
        "id": "AgPGET7lJYrr"
      }
    },
    {
      "cell_type": "code",
      "source": [
        "call_records = [\n",
        "    {\n",
        "        'name': 'John',\n",
        "        'phone': '123456789',\n",
        "        'duration': 30,\n",
        "        'cost': 5.0,\n",
        "    },\n",
        "    {\n",
        "        'name': 'Jane',\n",
        "        'phone': '234567890',\n",
        "        'duration': 90,\n",
        "        'cost': 10.0,\n",
        "    },\n",
        "    {\n",
        "        'name': 'John',\n",
        "        'phone': '345678901',\n",
        "        'duration': 120,\n",
        "        'cost': 15.0,\n",
        "    },\n",
        "    {\n",
        "        'name': 'Alice',\n",
        "        'phone': '456789012',\n",
        "        'duration': 45,\n",
        "        'cost': 7.5,\n",
        "    },\n",
        "    {\n",
        "        'name': 'John',\n",
        "        'phone': '567890123',\n",
        "        'duration': 75,\n",
        "        'cost': 9.0,\n",
        "    },\n",
        "]\n",
        "\n",
        "caller_name = 'John'\n",
        "\n",
        "total_duration = 0\n",
        "\n",
        "for call in call_records:\n",
        "  if call['duration'] < 60:\n",
        "    continue\n",
        "  if call['name'] == caller_name:\n",
        "    total_duration += call['duration']\n",
        "\n",
        "print(f'Total call duration for {caller_name}, {total_duration} seconds')\n"
      ],
      "metadata": {
        "colab": {
          "base_uri": "https://localhost:8080/"
        },
        "id": "5TLkZt7sJady",
        "outputId": "4bd6fdd3-eefd-46ec-b83f-49e3ba4f8295"
      },
      "execution_count": 19,
      "outputs": [
        {
          "output_type": "stream",
          "name": "stdout",
          "text": [
            "Total call duration for John, 195 seconds\n"
          ]
        }
      ]
    },
    {
      "cell_type": "markdown",
      "source": [
        "Potrzebujesz wydrukować nazwy wszystkich nieukończonych zadań (pomijając zadania, które zostały już zakończone) tak jak pokazano poniżej.\n",
        "\n",
        "Oczekiwany wynik:\n",
        "\n",
        "Framing is incomplete\n",
        "Plumbing is incomplete\n",
        "Drywall is incomplete"
      ],
      "metadata": {
        "id": "6lq1DFq-KWvJ"
      }
    },
    {
      "cell_type": "code",
      "source": [
        "construction_tasks = [\n",
        "    {\n",
        "        'name': 'Foundation',\n",
        "        'description': 'Excavate and pour concrete',\n",
        "        'completed': True,\n",
        "    },\n",
        "    {\n",
        "        'name': 'Framing',\n",
        "        'description': 'Frame the walls, roof, and floors',\n",
        "        'completed': False,\n",
        "    },\n",
        "    {\n",
        "        'name': 'Plumbing',\n",
        "        'description': 'Install the plumbing and fixtures',\n",
        "        'completed': False,\n",
        "    },\n",
        "    {\n",
        "        'name': 'Electrical',\n",
        "        'description': 'Install the electrical wiring and outlets',\n",
        "        'completed': True,\n",
        "    },\n",
        "    {\n",
        "        'name': 'Drywall',\n",
        "        'description': 'Install drywall on the walls and ceilings',\n",
        "        'completed': False,\n",
        "    },\n",
        "]\n",
        "\n",
        "for task in construction_tasks:\n",
        "  if task['completed'] == True:\n",
        "    continue\n",
        "  print(f\"{task['name']} is incomplete\")"
      ],
      "metadata": {
        "colab": {
          "base_uri": "https://localhost:8080/"
        },
        "id": "SnAKGUX8KXzr",
        "outputId": "dbb1984d-c730-41e3-cb5d-bfa4f2ac7b81"
      },
      "execution_count": 20,
      "outputs": [
        {
          "output_type": "stream",
          "name": "stdout",
          "text": [
            "Framing is incomplete\n",
            "Plumbing is incomplete\n",
            "Drywall is incomplete\n"
          ]
        }
      ]
    }
  ]
}