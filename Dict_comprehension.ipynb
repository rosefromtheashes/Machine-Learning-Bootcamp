{
  "nbformat": 4,
  "nbformat_minor": 0,
  "metadata": {
    "colab": {
      "provenance": [],
      "authorship_tag": "ABX9TyP4N+DA3mRH5sJyiI/xghtT",
      "include_colab_link": true
    },
    "kernelspec": {
      "name": "python3",
      "display_name": "Python 3"
    },
    "language_info": {
      "name": "python"
    }
  },
  "cells": [
    {
      "cell_type": "markdown",
      "metadata": {
        "id": "view-in-github",
        "colab_type": "text"
      },
      "source": [
        "<a href=\"https://colab.research.google.com/github/rosefromtheashes/Machine-Learning-Bootcamp/blob/main/Dict_comprehension.ipynb\" target=\"_parent\"><img src=\"https://colab.research.google.com/assets/colab-badge.svg\" alt=\"Open In Colab\"/></a>"
      ]
    },
    {
      "cell_type": "markdown",
      "source": [
        "Wykorzystując składanie słowników (dict comprehension) utwórz słownik, który zmapuje liczby od 1 do 7 na ich kwadraty. Utworzony słownik wydrukuj do konsoli."
      ],
      "metadata": {
        "id": "6p102MnOIn3C"
      }
    },
    {
      "cell_type": "code",
      "execution_count": 1,
      "metadata": {
        "colab": {
          "base_uri": "https://localhost:8080/"
        },
        "id": "TUowyLBQIZ2-",
        "outputId": "72352fca-55e5-4198-ecae-9ff0343de639"
      },
      "outputs": [
        {
          "output_type": "stream",
          "name": "stdout",
          "text": [
            "{1: 1, 2: 4, 3: 9, 4: 16, 5: 25, 6: 36, 7: 49}\n"
          ]
        }
      ],
      "source": [
        "square_dict = {num: num * num for num in range(1, 8)}\n",
        "print(square_dict)"
      ]
    },
    {
      "cell_type": "markdown",
      "source": [
        "Wykorzystując składanie słowników (dict comprehension) zbuduj słownik, który zmapuje nazwy spółek na liczbę znaków w jej nazwie. Utworzony słownik wydrukuj do konsoli.\n"
      ],
      "metadata": {
        "id": "0gfhWt4NI8Vr"
      }
    },
    {
      "cell_type": "code",
      "source": [
        "stock_names = ['Playway', 'CD Projekt', 'Boombit']\n",
        "len_names = {name: len(name) for name in stock_names}\n",
        "print(len_names)"
      ],
      "metadata": {
        "colab": {
          "base_uri": "https://localhost:8080/"
        },
        "id": "d8dYignxI9An",
        "outputId": "cb108729-2c38-4261-ff35-c16606d8bf3c"
      },
      "execution_count": 4,
      "outputs": [
        {
          "output_type": "stream",
          "name": "stdout",
          "text": [
            "{'Playway': 7, 'CD Projekt': 10, 'Boombit': 7}\n"
          ]
        }
      ]
    },
    {
      "cell_type": "markdown",
      "source": [
        "Używając składania słowników (dict comprehension) przestaw wartości słownika z kluczami. Tak przekształcony słownik wydrukuj do konsoli."
      ],
      "metadata": {
        "id": "xTPH8npqKH5a"
      }
    },
    {
      "cell_type": "code",
      "source": [
        "stock_codes = {'Boombit': '001', 'CD Projekt': '002', 'Playway': '003'}\n",
        "reverse_stock_codes = {key: value for value, key in stock_codes.items()}\n",
        "print(reverse_stock_codes)"
      ],
      "metadata": {
        "colab": {
          "base_uri": "https://localhost:8080/"
        },
        "id": "iFJ_6uOoKIsw",
        "outputId": "e0d478c1-06ef-4ad4-ff53-cf6c3dfc23d0"
      },
      "execution_count": 7,
      "outputs": [
        {
          "output_type": "stream",
          "name": "stdout",
          "text": [
            "{'001': 'Boombit', '002': 'CD Projekt', '003': 'Playway'}\n"
          ]
        }
      ]
    },
    {
      "cell_type": "markdown",
      "source": [
        "Wykorzystując składanie słowników (dict comprehension) wyodrębnij ze słownika pary klucz-wartość o wartości powyżej 100. Tak otrzymany słownik wydrukuj do konsoli."
      ],
      "metadata": {
        "id": "HxACBJxVLmzz"
      }
    },
    {
      "cell_type": "code",
      "source": [
        "stock_prices = {'Boombit': 22, 'CD Projekt': 295, 'Playway': 350}\n",
        "g_t_100 = {company: value for company, value in stock_prices.items() if value > 100}\n",
        "print(g_t_100)"
      ],
      "metadata": {
        "colab": {
          "base_uri": "https://localhost:8080/"
        },
        "id": "QghysO8cLnj4",
        "outputId": "b9636368-b641-40f4-c49a-f17da65b7864"
      },
      "execution_count": 8,
      "outputs": [
        {
          "output_type": "stream",
          "name": "stdout",
          "text": [
            "{'CD Projekt': 295, 'Playway': 350}\n"
          ]
        }
      ]
    },
    {
      "cell_type": "markdown",
      "source": [
        "Zbuduj listę składającą się ze słowników mapujących kolejne cyfry od 1 do 9 włącznie na ich odpowiednie k-te potęgi, dla k = 1, 2, 3 tak jak pokazano poniżej."
      ],
      "metadata": {
        "id": "t4d64aciMDLJ"
      }
    },
    {
      "cell_type": "code",
      "source": [
        "the_dict = [{number: number ** k for number in range(1, 10)} for k in range(1, 4)]\n",
        "print(the_dict)"
      ],
      "metadata": {
        "colab": {
          "base_uri": "https://localhost:8080/"
        },
        "id": "UDwQ2cpWMEDS",
        "outputId": "8401c3c0-029c-4b35-9f77-8a74bc01b44f"
      },
      "execution_count": 17,
      "outputs": [
        {
          "output_type": "stream",
          "name": "stdout",
          "text": [
            "[{1: 1, 2: 2, 3: 3, 4: 4, 5: 5, 6: 6, 7: 7, 8: 8, 9: 9}, {1: 1, 2: 4, 3: 9, 4: 16, 5: 25, 6: 36, 7: 49, 8: 64, 9: 81}, {1: 1, 2: 8, 3: 27, 4: 64, 5: 125, 6: 216, 7: 343, 8: 512, 9: 729}]\n"
          ]
        }
      ]
    },
    {
      "cell_type": "code",
      "source": [
        "stock_indices = ['WIG20', 'mWIG40', 'sWIG80']\n",
        "properties = ['number of companies', 'companies', 'market capitalization']\n",
        "\n",
        "info = {stock: {prop: None for prop in properties} for stock in stock_indices for prop in properties}\n",
        "print(info)"
      ],
      "metadata": {
        "colab": {
          "base_uri": "https://localhost:8080/"
        },
        "id": "lDgUeRLTSVh_",
        "outputId": "72c096e3-9856-4b7b-c803-2ee4f82e7980"
      },
      "execution_count": 19,
      "outputs": [
        {
          "output_type": "stream",
          "name": "stdout",
          "text": [
            "{'WIG20': {'number of companies': None, 'companies': None, 'market capitalization': None}, 'mWIG40': {'number of companies': None, 'companies': None, 'market capitalization': None}, 'sWIG80': {'number of companies': None, 'companies': None, 'market capitalization': None}}\n"
          ]
        }
      ]
    },
    {
      "cell_type": "markdown",
      "source": [
        "Wykorzystując składanie słowników (dict comprehension) przekształć listę indices w poniższy słownik:\n",
        "\n",
        "{0: 'WIG20', 1: 'mWIG40', 2: 'sWIG80'}\n"
      ],
      "metadata": {
        "id": "8p371QwCTUSC"
      }
    },
    {
      "cell_type": "code",
      "source": [
        "indices = ['WIG20', 'mWIG40', 'sWIG80']\n",
        "the_dict = {index: value for index, value in enumerate(indices)}\n",
        "print(the_dict)"
      ],
      "metadata": {
        "colab": {
          "base_uri": "https://localhost:8080/"
        },
        "id": "IOaHA6pETU_Y",
        "outputId": "4a9b10e6-9525-4272-89e1-25765e119a87"
      },
      "execution_count": 22,
      "outputs": [
        {
          "output_type": "stream",
          "name": "stdout",
          "text": [
            "{0: 'WIG20', 1: 'mWIG40', 2: 'sWIG80'}\n"
          ]
        }
      ]
    },
    {
      "cell_type": "markdown",
      "source": [
        "Potrzebujesz utworzyć nowy słownik, zawierający tylko te produkty, które są dostępne w magazynie i posortować je według ceny w kolejności rosnącej.\n",
        "\n",
        "W rozwiązaniu skorzystaj ze składania słowników. Wynik wydrukuj do konsoli."
      ],
      "metadata": {
        "id": "bqZ12gFeUA1c"
      }
    },
    {
      "cell_type": "code",
      "source": [
        "products = [\n",
        "    {'id': 1, 'name': 'Keyboard', 'price': 100, 'in_stock': True},\n",
        "    {'id': 2, 'name': 'Mouse', 'price': 50, 'in_stock': False},\n",
        "    {'id': 3, 'name': 'Monitor', 'price': 200, 'in_stock': True},\n",
        "    {'id': 4, 'name': 'Speakers', 'price': 75, 'in_stock': True},\n",
        "    {'id': 5, 'name': 'Headphones', 'price': 90, 'in_stock': False},\n",
        "]\n",
        "\n",
        "new_dict = {product['name']: product['price'] for product in sorted(products, key=lambda x: x['price']) if product['in_stock']}\n",
        "print(new_dict)"
      ],
      "metadata": {
        "colab": {
          "base_uri": "https://localhost:8080/"
        },
        "id": "jrrJTz44UBiY",
        "outputId": "743547fb-4ca4-4ea8-e53e-86f92efd469d"
      },
      "execution_count": 33,
      "outputs": [
        {
          "output_type": "stream",
          "name": "stdout",
          "text": [
            "{'Speakers': 75, 'Keyboard': 100, 'Monitor': 200}\n"
          ]
        }
      ]
    },
    {
      "cell_type": "markdown",
      "source": [
        "Potrzebujesz utworzyć nowy słownik, który będzie grupował loty według miejsc przylotu, a wartościami będą listy numerów lotów, które przylatują na dane miejsce. Oczekiwana postać słownika (sformatowany dla lepszego wyświetlenia):\n",
        "\n",
        "W rozwiązaniu użyj składania słowników (dict comprehension). Otrzymany słownik przypisz do zmiennej flights_by_arrival_city."
      ],
      "metadata": {
        "id": "xHhIQLgkV7LK"
      }
    },
    {
      "cell_type": "code",
      "source": [
        "flights = [\n",
        "    {\n",
        "        'flight_number': 'ABC123',\n",
        "        'departure_time': '2023-04-12 08:00',\n",
        "        'flight_time': 2,\n",
        "        'departure_city': 'Kraków',\n",
        "        'arrival_city': 'Warszawa',\n",
        "    },\n",
        "    {\n",
        "        'flight_number': 'DEF456',\n",
        "        'departure_time': '2023-04-12 10:00',\n",
        "        'flight_time': 1,\n",
        "        'departure_city': 'Gdańsk',\n",
        "        'arrival_city': 'Warszawa',\n",
        "    },\n",
        "    {\n",
        "        'flight_number': 'GHI789',\n",
        "        'departure_time': '2023-04-12 14:00',\n",
        "        'flight_time': 3,\n",
        "        'departure_city': 'Warszawa',\n",
        "        'arrival_city': 'Kraków',\n",
        "    },\n",
        "    {\n",
        "        'flight_number': 'JKL012',\n",
        "        'departure_time': '2023-04-12 12:00',\n",
        "        'flight_time': 2,\n",
        "        'departure_city': 'Warszawa',\n",
        "        'arrival_city': 'Gdańsk',\n",
        "    },\n",
        "    {\n",
        "        'flight_number': 'MNO345',\n",
        "        'departure_time': '2023-04-12 16:00',\n",
        "        'flight_time': 1,\n",
        "        'departure_city': 'Kraków',\n",
        "        'arrival_city': 'Gdańsk',\n",
        "    },\n",
        "]\n",
        "\n",
        "flights_by_arrival_city = {}\n",
        "for flight in sorted(flights, key=lambda x: (x['arrival_city'], x['flight_number'])):\n",
        "    arrival_city = flight['arrival_city']\n",
        "    flight_number = flight['flight_number']\n",
        "    if arrival_city not in flights_by_arrival_city:\n",
        "        flights_by_arrival_city[arrival_city] = [flight_number]\n",
        "    else:\n",
        "        flights_by_arrival_city[arrival_city].append(flight_number)\n",
        "\n",
        "# Wydrukowanie otrzymanego słownika\n",
        "print(flights_by_arrival_city)"
      ],
      "metadata": {
        "colab": {
          "base_uri": "https://localhost:8080/"
        },
        "id": "PCZzulTwWBGL",
        "outputId": "1b8b9347-eeba-4153-ae5f-66242e686950"
      },
      "execution_count": 36,
      "outputs": [
        {
          "output_type": "stream",
          "name": "stdout",
          "text": [
            "{'Gdańsk': ['JKL012', 'MNO345'], 'Kraków': ['GHI789'], 'Warszawa': ['ABC123', 'DEF456']}\n"
          ]
        }
      ]
    },
    {
      "cell_type": "markdown",
      "source": [
        "Potrzebujesz utworzyć nowy słownik, który będzie grupował loty według miejsc przylotu, a wartościami będą listy lotów, które przylatują na dane miejsce, posortowane według godziny odlotu. Oczekiwana postać słownika (sformatowany dla lepszego wyświetlenia):"
      ],
      "metadata": {
        "id": "tn73Kr9gZl-P"
      }
    },
    {
      "cell_type": "code",
      "source": [
        "flights_by_arrival_city = {\n",
        "    flight['arrival_city']: sorted( #kluczem jest miasto, stąd flight['arrival city']\n",
        "        [\n",
        "            f\n",
        "            for f in flights\n",
        "            if f['arrival_city'] == flight['arrival_city'] #przydzielam flight do arrival_city\n",
        "        ],\n",
        "        key=lambda x: x['departure_time'], #sortuję po czasie przylotu\n",
        "    )\n",
        "    for flight in flights\n",
        "}\n",
        "\n",
        "print(flights_by_arrival_city)"
      ],
      "metadata": {
        "colab": {
          "base_uri": "https://localhost:8080/"
        },
        "id": "wib4YHvKZmpR",
        "outputId": "3926efa4-ab36-409b-f294-f576f8a02d51"
      },
      "execution_count": 37,
      "outputs": [
        {
          "output_type": "stream",
          "name": "stdout",
          "text": [
            "{'Warszawa': [{'flight_number': 'ABC123', 'departure_time': '2023-04-12 08:00', 'flight_time': 2, 'departure_city': 'Kraków', 'arrival_city': 'Warszawa'}, {'flight_number': 'DEF456', 'departure_time': '2023-04-12 10:00', 'flight_time': 1, 'departure_city': 'Gdańsk', 'arrival_city': 'Warszawa'}], 'Kraków': [{'flight_number': 'GHI789', 'departure_time': '2023-04-12 14:00', 'flight_time': 3, 'departure_city': 'Warszawa', 'arrival_city': 'Kraków'}], 'Gdańsk': [{'flight_number': 'JKL012', 'departure_time': '2023-04-12 12:00', 'flight_time': 2, 'departure_city': 'Warszawa', 'arrival_city': 'Gdańsk'}, {'flight_number': 'MNO345', 'departure_time': '2023-04-12 16:00', 'flight_time': 1, 'departure_city': 'Kraków', 'arrival_city': 'Gdańsk'}]}\n"
          ]
        }
      ]
    }
  ]
}