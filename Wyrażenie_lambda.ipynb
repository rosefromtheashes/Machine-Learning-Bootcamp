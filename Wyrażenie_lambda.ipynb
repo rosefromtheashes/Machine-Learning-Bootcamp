{
  "nbformat": 4,
  "nbformat_minor": 0,
  "metadata": {
    "colab": {
      "provenance": [],
      "authorship_tag": "ABX9TyNYDSGaiUlOdTXVQKiqR6Oy",
      "include_colab_link": true
    },
    "kernelspec": {
      "name": "python3",
      "display_name": "Python 3"
    },
    "language_info": {
      "name": "python"
    }
  },
  "cells": [
    {
      "cell_type": "markdown",
      "metadata": {
        "id": "view-in-github",
        "colab_type": "text"
      },
      "source": [
        "<a href=\"https://colab.research.google.com/github/rosefromtheashes/Machine-Learning-Bootcamp/blob/main/Wyra%C5%BCenie_lambda.ipynb\" target=\"_parent\"><img src=\"https://colab.research.google.com/assets/colab-badge.svg\" alt=\"Open In Colab\"/></a>"
      ]
    },
    {
      "cell_type": "markdown",
      "source": [
        "Jej najprostsza postać wygląda tak:\n",
        "\n",
        "lambda <parametry> : <wyrażenie>\n",
        "\n",
        "Jest to funkcja która nie ma nazwy. Poprzez użycie słowa kluczowego 'lambda’ informujemy Python, że właśnie taką anonimową funkcję chcemy utworzyć. Następnie podajemy listę parametrów, które chcemy aby przyjmowała, używamy „:”, oraz definiujemy jej zawartość.\n",
        "\n",
        "Przykładowo:\n",
        "\n",
        "lambda x, y: x + y\n",
        "\n",
        "W tym przypadku funkcja przyjmuje 2 parametry – x oraz y, a następnie zwraca ich sumę."
      ],
      "metadata": {
        "id": "kjeoxq-nc4R5"
      }
    },
    {
      "cell_type": "code",
      "execution_count": null,
      "metadata": {
        "id": "hgtJlX16YhPJ"
      },
      "outputs": [],
      "source": [
        "lambda x, y: x + y"
      ]
    },
    {
      "cell_type": "markdown",
      "source": [
        "Używając funkcji map() oraz wyrażenia lambda przekształć podaną listę w listę zawierającą długości poszczególnych słów. Wynik wydrukuj do konsoli."
      ],
      "metadata": {
        "id": "7AUpnDAVdSzy"
      }
    },
    {
      "cell_type": "code",
      "source": [
        "stocks = ['playway', 'boombit', 'cd projekt']\n",
        "stocks_len = list(map(lambda word: len(word), stocks))\n",
        "print(stocks_len)"
      ],
      "metadata": {
        "colab": {
          "base_uri": "https://localhost:8080/"
        },
        "id": "5x3zv3yEdayp",
        "outputId": "334242c0-6c43-4455-97c9-07a384b254a1"
      },
      "execution_count": 2,
      "outputs": [
        {
          "output_type": "stream",
          "name": "stdout",
          "text": [
            "[7, 7, 10]\n"
          ]
        }
      ]
    },
    {
      "cell_type": "markdown",
      "source": [
        "Napisz funkcję sort_list(), która uporządkuje listę składającą się z dwuelementowych krotek - obiektów typu tuple według drugiego elementu krotki."
      ],
      "metadata": {
        "id": "2xXeFt1Hc3Fd"
      }
    },
    {
      "cell_type": "code",
      "source": [
        "def sort_list(my_list):\n",
        "  sorted_list = sorted(my_list, key=lambda x: x[1])\n",
        "  return sorted_list\n",
        "\n",
        "print(sort_list([(1, 3), (4, 1), (4, 2), (0, 7)]))"
      ],
      "metadata": {
        "colab": {
          "base_uri": "https://localhost:8080/"
        },
        "id": "jF521OF3exZp",
        "outputId": "663e206c-f845-4f93-fe8e-25815bf01db9"
      },
      "execution_count": 5,
      "outputs": [
        {
          "output_type": "stream",
          "name": "stdout",
          "text": [
            "[(4, 1), (4, 2), (1, 3), (0, 7)]\n"
          ]
        }
      ]
    },
    {
      "cell_type": "markdown",
      "source": [
        "Uwaga! Poniższe ćwiczenie to nie jest najlepsza praktyka w języku Python. Ćwiczenie ma na celu pokazanie, że możliwe jest utworzenie funkcji nazwanej przy użyciu wyrażenia lambda.\n",
        "\n",
        "Poniżej zdefiniowana jest funkcja func_1():\n",
        "\n"
      ],
      "metadata": {
        "id": "ngAocfvTfrZ2"
      }
    },
    {
      "cell_type": "code",
      "source": [
        "def func_1(x, y):\n",
        "    return x + y + 2\n",
        "\n"
      ],
      "metadata": {
        "id": "ZqfRhVx9f2Xt"
      },
      "execution_count": null,
      "outputs": []
    },
    {
      "cell_type": "markdown",
      "source": [
        "Wykorzystując wyrażenie lambda zdefiniuj analogiczną funkcję i przypisz ją do zmiennej func_2."
      ],
      "metadata": {
        "id": "JUBvin1Ef47Y"
      }
    },
    {
      "cell_type": "code",
      "source": [
        "func_2 = lambda x, y: x + y + 2"
      ],
      "metadata": {
        "id": "6-yaK1X7f63-"
      },
      "execution_count": null,
      "outputs": []
    },
    {
      "cell_type": "markdown",
      "source": [
        "Posortuj listę według rosnącej sumy kwadratów liczb podanych w obiektach typu tuple. Użyj metody list.sort() oraz wyrażenia lambda. W odpowiedzi wydrukuj listę do konsoli."
      ],
      "metadata": {
        "id": "tRogVXvOgMbN"
      }
    },
    {
      "cell_type": "code",
      "source": [
        "items = [(3, 4), (2, 5), (1, 4), (6, 1)]\n",
        "sorted_list = sorted(items, key=lambda x: x[0] ** 2 + x[1] ** 2)\n",
        "print(sorted_list)"
      ],
      "metadata": {
        "colab": {
          "base_uri": "https://localhost:8080/"
        },
        "id": "9ZirQQ7wgNTP",
        "outputId": "c438ab5e-0edc-4608-b55d-91e6806c09d7"
      },
      "execution_count": 6,
      "outputs": [
        {
          "output_type": "stream",
          "name": "stdout",
          "text": [
            "[(1, 4), (3, 4), (2, 5), (6, 1)]\n"
          ]
        }
      ]
    },
    {
      "cell_type": "markdown",
      "source": [
        "Posortuj podaną listę słowników po kluczu price"
      ],
      "metadata": {
        "id": "fQd9xtGehDkU"
      }
    },
    {
      "cell_type": "code",
      "source": [
        "stocks = [\n",
        "    {'indeks': 'mWIG40', 'name': 'TEN', 'price': 304},\n",
        "    {'indeks': 'mWIG40', 'name': 'PLW', 'price': 309},\n",
        "    {'indeks': 'sWIG80', 'name': 'BBT', 'price': 22}\n",
        "]\n",
        "sorted_stocks = sorted(stocks, key=lambda x: x['price'])\n",
        "print(sorted_stocks)"
      ],
      "metadata": {
        "colab": {
          "base_uri": "https://localhost:8080/"
        },
        "id": "iQFDQtsThEcP",
        "outputId": "e09457ba-c8bf-429b-cf58-7b49494d9972"
      },
      "execution_count": 8,
      "outputs": [
        {
          "output_type": "stream",
          "name": "stdout",
          "text": [
            "[{'indeks': 'sWIG80', 'name': 'BBT', 'price': 22}, {'indeks': 'mWIG40', 'name': 'TEN', 'price': 304}, {'indeks': 'mWIG40', 'name': 'PLW', 'price': 309}]\n"
          ]
        }
      ]
    },
    {
      "cell_type": "markdown",
      "source": [
        "Z listy stocks wyodrębnij spółki z indeksu 'mWIG40' w postaci listy i wynik wydrukuj do konsoli. W rozwiązaniu skorzystaj z wyrażenia lambda."
      ],
      "metadata": {
        "id": "RcJQkZDIhyLW"
      }
    },
    {
      "cell_type": "code",
      "source": [
        "stocks = [\n",
        "    {'indeks': 'mWIG40', 'name': 'TEN', 'price': 304},\n",
        "    {'indeks': 'mWIG40', 'name': 'PLW', 'price': 309},\n",
        "    {'indeks': 'sWIG80', 'name': 'BBT', 'price': 22}\n",
        "]\n",
        "sorted_stocks = list(filter(lambda x: x['indeks'] == 'mWIG40', stocks))\n",
        "print(sorted_stocks)"
      ],
      "metadata": {
        "colab": {
          "base_uri": "https://localhost:8080/"
        },
        "id": "NXtP-9_whzFb",
        "outputId": "e7ff3a9e-e13b-4950-df95-ea85683dbedc"
      },
      "execution_count": 10,
      "outputs": [
        {
          "output_type": "stream",
          "name": "stdout",
          "text": [
            "[{'indeks': 'mWIG40', 'name': 'TEN', 'price': 304}, {'indeks': 'mWIG40', 'name': 'PLW', 'price': 309}]\n"
          ]
        }
      ]
    },
    {
      "cell_type": "markdown",
      "source": [
        "Przekształć podaną listę na listę wartości logicznych (True, False). True w przypadku, gdy spółka należy do indeksu 'mWIG40', False przeciwnie. Przekształconą listę wydrukuj do konsoli."
      ],
      "metadata": {
        "id": "2G2MbWuPi0K0"
      }
    },
    {
      "cell_type": "code",
      "source": [
        "stocks = [\n",
        "    {'indeks': 'mWIG40', 'name': 'TEN', 'price': 304},\n",
        "    {'indeks': 'mWIG40', 'name': 'PLW', 'price': 309},\n",
        "    {'indeks': 'sWIG80', 'name': 'BBT', 'price': 22}\n",
        "]\n",
        "\n",
        "bool_values = list(map(lambda x: x['indeks'] == 'mWIG40', stocks))\n",
        "print(bool_values)"
      ],
      "metadata": {
        "colab": {
          "base_uri": "https://localhost:8080/"
        },
        "id": "70oktkrMi1CU",
        "outputId": "9c0bb3e3-33ee-4552-e892-ac0d737bd238"
      },
      "execution_count": 13,
      "outputs": [
        {
          "output_type": "stream",
          "name": "stdout",
          "text": [
            "[True, True, False]\n"
          ]
        }
      ]
    },
    {
      "cell_type": "markdown",
      "source": [
        "Wykorzystując funkcję map() oraz wyrażenie lambda przekształć podaną listę w taki sposób, aby pozbyć się z każdego elementu znaku '-' (myślnik). W odpowiedzi tak przetworzoną listę wydrukuj do konsoli."
      ],
      "metadata": {
        "id": "UmU0ClktkVJK"
      }
    },
    {
      "cell_type": "code",
      "source": [
        "items = ['P-1', 'R-2', 'D-4', 'F-6']\n",
        "new_items = list(map(lambda x: x.replace('-', ''), items))\n",
        "print(new_items)"
      ],
      "metadata": {
        "colab": {
          "base_uri": "https://localhost:8080/"
        },
        "id": "bZkoGFXSkV5-",
        "outputId": "1b5664a4-032f-4591-8444-9e9e93ad90cd"
      },
      "execution_count": 14,
      "outputs": [
        {
          "output_type": "stream",
          "name": "stdout",
          "text": [
            "['P1', 'R2', 'D4', 'F6']\n"
          ]
        }
      ]
    },
    {
      "cell_type": "markdown",
      "source": [
        "Listy są tej samej długości. Wykorzystując funkcję map() oraz wyrażenie lambda przekształć podane listy w jedną zawierającą resztę z dzielenia elementu pierwszej listy przez odpowiedni element drugiej listy. W odpowiedzi otrzymaną listę wydrukuj do konsoli.\n"
      ],
      "metadata": {
        "id": "ElIxikwVnRs-"
      }
    },
    {
      "cell_type": "code",
      "source": [
        "num1 = [4, 2, 6, 2, 11]\n",
        "num2 = [5, 2, 3, 3, 9]\n",
        "divided = list(map(lambda x, y: x % y, num1, num2 ))\n",
        "print(divided)"
      ],
      "metadata": {
        "colab": {
          "base_uri": "https://localhost:8080/"
        },
        "id": "25969y8bnSf-",
        "outputId": "213a63c0-0725-4033-e0ba-9fad7b84e5b3"
      },
      "execution_count": 15,
      "outputs": [
        {
          "output_type": "stream",
          "name": "stdout",
          "text": [
            "[4, 0, 0, 2, 2]\n"
          ]
        }
      ]
    }
  ]
}