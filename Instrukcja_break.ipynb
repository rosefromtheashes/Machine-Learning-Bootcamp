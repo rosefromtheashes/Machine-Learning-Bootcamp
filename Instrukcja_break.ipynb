{
  "nbformat": 4,
  "nbformat_minor": 0,
  "metadata": {
    "colab": {
      "provenance": [],
      "authorship_tag": "ABX9TyOboshbTVLlCleMZT7j2EoS",
      "include_colab_link": true
    },
    "kernelspec": {
      "name": "python3",
      "display_name": "Python 3"
    },
    "language_info": {
      "name": "python"
    }
  },
  "cells": [
    {
      "cell_type": "markdown",
      "metadata": {
        "id": "view-in-github",
        "colab_type": "text"
      },
      "source": [
        "<a href=\"https://colab.research.google.com/github/rosefromtheashes/Machine-Learning-Bootcamp/blob/main/Instrukcja_break.ipynb\" target=\"_parent\"><img src=\"https://colab.research.google.com/assets/colab-badge.svg\" alt=\"Open In Colab\"/></a>"
      ]
    },
    {
      "cell_type": "markdown",
      "source": [
        "Napisz program, który porówna te dwie listy i zwróci wartość True w przypadku gdy listy będą zawierały co najmniej jeden ten sam element. W przeciwnym razie zwróci wartość False. W rozwiązaniu użyj instrukcji break."
      ],
      "metadata": {
        "id": "vFuebvJx2l6C"
      }
    },
    {
      "cell_type": "code",
      "source": [
        "list1 = [1, 2, 0]\n",
        "list2 = [4, 5, 6, 1]\n",
        "result = False #ustawiamy wejściowy rezultat\n",
        "\n",
        "for item1 in list1: #dla każdej iteracji w 1. liście\n",
        "    if item1 in list2: #jeżeli iteracja występuje w 2. liście\n",
        "        result = True #rezultat zmienia się na prawdziwy\n",
        "        break #i kończymy działanie pętli\n",
        "print(result)"
      ],
      "metadata": {
        "colab": {
          "base_uri": "https://localhost:8080/"
        },
        "id": "gpwNt9Tp2n7B",
        "outputId": "eab12d70-84fe-4f1b-af86-f3042d84bce6"
      },
      "execution_count": null,
      "outputs": [
        {
          "output_type": "stream",
          "name": "stdout",
          "text": [
            "True\n"
          ]
        }
      ]
    },
    {
      "cell_type": "markdown",
      "source": [
        "Sprawdź, czy każdy obiekt z tej listy jest obiektem klasy str. Jeżeli tak wydrukuj wartość True, w przeciwnym przypadku wydrukuj wartość False. W rozwiązaniu użyj instrukcji break."
      ],
      "metadata": {
        "id": "lcbkEFki4hi7"
      }
    },
    {
      "cell_type": "code",
      "source": [
        "hashtags = ['holiday', 'sport', 'fit', None, 'fashion']\n",
        "\n",
        "result = False\n",
        "\n",
        "for hashtag in hashtags:\n",
        "  if hashtag is str:\n",
        "    result = True\n",
        "    break\n",
        "\n",
        "print(result)"
      ],
      "metadata": {
        "colab": {
          "base_uri": "https://localhost:8080/"
        },
        "id": "Iw4nE3xc4iXc",
        "outputId": "895118f8-ded8-4de4-c3d0-15fbbd9a661c"
      },
      "execution_count": null,
      "outputs": [
        {
          "output_type": "stream",
          "name": "stdout",
          "text": [
            "False\n"
          ]
        }
      ]
    },
    {
      "cell_type": "markdown",
      "source": [
        "Napisz program, który sprawdzi, czy podana liczba jest liczbą pierwszą:\n",
        "\n",
        "number = 13\n",
        "\n",
        "Jeśli podana liczba jest pierwsza wydrukuj do konsoli:\n",
        "'13 - is a prime number'\n",
        "\n",
        "Jeśli podana liczba nie jest pierwsza wydrukuj do konsoli:\n",
        "'13 - is not a prime number'\n",
        "\n",
        "W rozwiązaniu użyj instrukcji break."
      ],
      "metadata": {
        "id": "Nv7P6uPpu6M7"
      }
    },
    {
      "cell_type": "code",
      "source": [
        "number = 13\n",
        "\n",
        "if number > 1: #Liczba pierwsza najmniejsza to 2\n",
        "    for i in range(2, number):\n",
        "        if number % i == 0:\n",
        "            print(f'{number} - is not a prime number')\n",
        "            break\n",
        "    else:\n",
        "        print(f'{number} - is a prime number')\n",
        "else:\n",
        "    print(f'{number} - is not a prime number')"
      ],
      "metadata": {
        "colab": {
          "base_uri": "https://localhost:8080/",
          "height": 232
        },
        "id": "m_7TNAZ5u6-Q",
        "outputId": "71b63352-99ed-4a89-dbe5-1bf15e2869ce"
      },
      "execution_count": null,
      "outputs": [
        {
          "output_type": "error",
          "ename": "NameError",
          "evalue": "ignored",
          "traceback": [
            "\u001b[0;31m---------------------------------------------------------------------------\u001b[0m",
            "\u001b[0;31mNameError\u001b[0m                                 Traceback (most recent call last)",
            "\u001b[0;32m<ipython-input-8-c6ac7468d71d>\u001b[0m in \u001b[0;36m<cell line: 3>\u001b[0;34m()\u001b[0m\n\u001b[1;32m      1\u001b[0m \u001b[0mnumber\u001b[0m \u001b[0;34m=\u001b[0m \u001b[0;36m13\u001b[0m\u001b[0;34m\u001b[0m\u001b[0;34m\u001b[0m\u001b[0m\n\u001b[1;32m      2\u001b[0m \u001b[0;34m\u001b[0m\u001b[0m\n\u001b[0;32m----> 3\u001b[0;31m \u001b[0;32mif\u001b[0m \u001b[0mn\u001b[0m \u001b[0;34m%\u001b[0m \u001b[0mnumber\u001b[0m \u001b[0;34m==\u001b[0m \u001b[0;36m0\u001b[0m\u001b[0;34m:\u001b[0m\u001b[0;34m\u001b[0m\u001b[0;34m\u001b[0m\u001b[0m\n\u001b[0m\u001b[1;32m      4\u001b[0m   \u001b[0mprint\u001b[0m\u001b[0;34m(\u001b[0m\u001b[0;34mf'{number} - is not a prime number'\u001b[0m\u001b[0;34m)\u001b[0m\u001b[0;34m\u001b[0m\u001b[0;34m\u001b[0m\u001b[0m\n\u001b[1;32m      5\u001b[0m \u001b[0;32melse\u001b[0m\u001b[0;34m:\u001b[0m\u001b[0;34m\u001b[0m\u001b[0;34m\u001b[0m\u001b[0m\n",
            "\u001b[0;31mNameError\u001b[0m: name 'n' is not defined"
          ]
        }
      ]
    },
    {
      "cell_type": "markdown",
      "source": [
        "Wykorzystując pętlę for oraz instrukcję break, sprawdź czy podany produkt jest dostępny w sklepie. Jeśli dostępny produkt pasuje do zapytania użytkownika, wydrukuj komunikat informujący, że produkt został znaleziony:\n",
        "\n",
        "Product found: Sneakers\n",
        "\n",
        "Jeśli pętla zakończy się bez znalezienia pasującego produktu, wydrukuj komunikat, że produkt nie został znaleziony:\n",
        "\n",
        "Product not found"
      ],
      "metadata": {
        "id": "ckBqlaNbxs6k"
      }
    },
    {
      "cell_type": "code",
      "source": [
        "products = ['T-shirt', 'Jeans', 'Sneakers', 'Backpack', 'Watch']\n",
        "query = 'Sneakers'\n",
        "\n",
        "result = 'Product not found'\n",
        "\n",
        "for product in products:\n",
        "  if query == product:\n",
        "    result = print(f'Product found: {query}')\n",
        "    break\n",
        "\n",
        "\n"
      ],
      "metadata": {
        "colab": {
          "base_uri": "https://localhost:8080/"
        },
        "id": "v_qyi4fQx1pJ",
        "outputId": "3ef00c7e-78fb-4ae9-938b-3d1ce5e791a3"
      },
      "execution_count": null,
      "outputs": [
        {
          "output_type": "stream",
          "name": "stdout",
          "text": [
            "Product found: Sneakers\n"
          ]
        }
      ]
    },
    {
      "cell_type": "markdown",
      "source": [
        "Wykorzystując pętlę for oraz instrukcję break, sprawdź czy podany kurs jest dostępny na platformie. Jeśli dostępny kurs pasuje do zapytania użytkownika, wydrukuj komunikat informujący, że kurs został znaleziony:\n",
        "\n",
        "Course found: Big Data\n",
        "\n",
        "Jeśli pętla zakończy się bez znalezienia pasującego produktu, wydrukuj komunikat, że produkt nie został znaleziony:\n",
        "\n",
        "Course not found\n"
      ],
      "metadata": {
        "id": "LUJ-1vAFzNpr"
      }
    },
    {
      "cell_type": "code",
      "source": [
        "courses = [\n",
        "    'Introduction to Python',\n",
        "    'Web Development',\n",
        "    'Data Science',\n",
        "    'Artificial Intelligence',\n",
        "]\n",
        "query = 'Big Data'\n",
        "result = 'Course not found'\n",
        "\n",
        "for course in courses:\n",
        "  if query == course:\n",
        "    print(f'Course found: {query}')\n",
        "    break\n",
        "\n",
        "print(result)"
      ],
      "metadata": {
        "colab": {
          "base_uri": "https://localhost:8080/"
        },
        "id": "ZVK6H0cQzOfX",
        "outputId": "929f1b69-4563-4f23-acfd-8d7f57f02c94"
      },
      "execution_count": null,
      "outputs": [
        {
          "output_type": "stream",
          "name": "stdout",
          "text": [
            "Course not found\n"
          ]
        }
      ]
    },
    {
      "cell_type": "markdown",
      "source": [
        "Twoim zadaniem jest wydrukowanie nazwisk pracowników wraz z pensją tak jak pokazano poniżej do momentu, gdy znajdziemy pracownika z pensją poniżej minimalnej kwoty ustalonej na 55000:\n",
        "\n",
        "min_salary = 55000\n",
        "\n",
        "Jeśli pracownik zarabia 55000 lub powyżej to wydrukuj do konsoli informację w poniższej postaci:\n",
        "'John has a salary of $60000'\n",
        "\n",
        "Jeśli pracownik zarabia poniżej minimalnej kwoty to wydrukuj do konsoli informację w poniższej postaci:\n",
        "'STOP! Bob with $40000'"
      ],
      "metadata": {
        "id": "V4-ixS9iz4S_"
      }
    },
    {
      "cell_type": "code",
      "source": [
        "employees = [\n",
        "    {'name': 'John', 'salary': 60000},\n",
        "    {'name': 'Jane', 'salary': 55000},\n",
        "    {'name': 'Bob', 'salary': 40000},\n",
        "    {'name': 'Sara', 'salary': 70000},\n",
        "    {'name': 'Mike', 'salary': 52000},\n",
        "]\n",
        "min_salary = 55000\n",
        "\n",
        "for employee in employees:\n",
        "  if employee['salary'] >= min_salary:\n",
        "    print(f\"{employee['name']} has a salary of ${employee['salary']}\")\n",
        "  else:\n",
        "    print(f\"STOP! {employee['name']} with ${employee['salary']}\")\n",
        "    break"
      ],
      "metadata": {
        "colab": {
          "base_uri": "https://localhost:8080/"
        },
        "id": "anGDXYQOz5AS",
        "outputId": "9a7dae0c-8062-443c-f353-fbd13a244aaa"
      },
      "execution_count": null,
      "outputs": [
        {
          "output_type": "stream",
          "name": "stdout",
          "text": [
            "John has a salary of $60000\n",
            "Jane has a salary of $55000\n",
            "STOP! Bob with $40000\n"
          ]
        }
      ]
    },
    {
      "cell_type": "markdown",
      "source": [
        "Potrzebujesz znaleźć pierwszego kierowcę z oceną co najmniej 4.5 i wydrukować jego nazwisko tak jak poniżej:\n",
        "'Suitable driver found: {last_name}'\n",
        "\n",
        "Jeśli żaden kierowca nie ma oceny co najmniej 4.5,  wydrukuj komunikat informujący, że nie znaleziono odpowiedniego kierowcy tak jak poniżej:\n",
        "'No suitable driver found.'\n",
        "\n",
        "Oczekiwany wynik:\n",
        "\n",
        "Suitable driver found: Alice"
      ],
      "metadata": {
        "id": "4BmUcQjy1WJq"
      }
    },
    {
      "cell_type": "code",
      "source": [
        "taxi_drivers = [\n",
        "    ('John', 4.2),\n",
        "    ('Jane', 4.45),\n",
        "    ('Bob', 4.3),\n",
        "    ('Alice', 4.8),\n",
        "    ('Mike', 3.9),\n",
        "]\n",
        "\n",
        "suitable_driver_found = False #musimy wprowadzić to na początku, co pozwoli nam\n",
        "#zmieniać wartości logiczne\n",
        "\n",
        "for driver in taxi_drivers:\n",
        "    if driver[1] >= 4.5:\n",
        "        print(f'Suitable driver found: {driver[0]}')\n",
        "        suitable_driver_found = True\n",
        "\n",
        "if not suitable_driver_found:\n",
        "    print('No suitable driver found.')"
      ],
      "metadata": {
        "colab": {
          "base_uri": "https://localhost:8080/"
        },
        "id": "qHi-j6L61XE9",
        "outputId": "3b94032a-6581-4879-df4f-c45659e85840"
      },
      "execution_count": null,
      "outputs": [
        {
          "output_type": "stream",
          "name": "stdout",
          "text": [
            "Suitable driver found: Alice\n"
          ]
        }
      ]
    },
    {
      "cell_type": "markdown",
      "source": [
        "Potrzebujesz znaleźć pierwszy post, który ma co najmniej 100 polubień i wydrukować jego treść. Jeśli żaden post nie ma co najmniej 100 polubień, wydrukuj poniższą wiadomość, że nie znaleziono popularnego postu:\n",
        "'No popular post found.'\n",
        "\n",
        "Oczekiwany wynik:\n",
        "\n",
        "Vestibulum at ipsum ac diam sollicitudin tempor."
      ],
      "metadata": {
        "id": "_V0Q1GvY_AqH"
      }
    },
    {
      "cell_type": "code",
      "source": [
        "posts = [\n",
        "    {\n",
        "        'text': 'Lorem ipsum dolor sit amet, consectetur elit.',\n",
        "        'author': 'John',\n",
        "        'likes': 52,\n",
        "    },\n",
        "    {\n",
        "        'text': 'Nulla facilisi. Duis eu aliquam libero.',\n",
        "        'author': 'Jane',\n",
        "        'likes': 87,\n",
        "    },\n",
        "    {\n",
        "        'text': 'Vestibulum at ipsum ac diam sollicitudin tempor.',\n",
        "        'author': 'Bob',\n",
        "        'likes': 113,\n",
        "    },\n",
        "    {\n",
        "        'text': 'Curabitur lobortis luctus velit, et scelerisque eu.',\n",
        "        'author': 'Alice',\n",
        "        'likes': 78,\n",
        "    },\n",
        "    {\n",
        "        'text': 'Suspendisse nec enim rutrum, vehicula lectus ut',\n",
        "        'author': 'Mike',\n",
        "        'likes': 99,\n",
        "    },\n",
        "]\n",
        "\n",
        "result = 'No popular post found.'\n",
        "\n",
        "for post in posts:\n",
        "  if post['likes'] >= 100:\n",
        "    result = print(post['text'])\n",
        "    break\n",
        "\n"
      ],
      "metadata": {
        "colab": {
          "base_uri": "https://localhost:8080/"
        },
        "id": "heB768Rn_baH",
        "outputId": "ea010507-b616-41ee-e21d-29de5adba511"
      },
      "execution_count": 2,
      "outputs": [
        {
          "output_type": "stream",
          "name": "stdout",
          "text": [
            "Vestibulum at ipsum ac diam sollicitudin tempor.\n"
          ]
        }
      ]
    },
    {
      "cell_type": "markdown",
      "source": [],
      "metadata": {
        "id": "40fY_EQtBC51"
      }
    }
  ]
}