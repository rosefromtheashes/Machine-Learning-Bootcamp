{
  "nbformat": 4,
  "nbformat_minor": 0,
  "metadata": {
    "colab": {
      "provenance": [],
      "authorship_tag": "ABX9TyOtn+pAKh/eBsxWBSkA0FDs",
      "include_colab_link": true
    },
    "kernelspec": {
      "name": "python3",
      "display_name": "Python 3"
    },
    "language_info": {
      "name": "python"
    }
  },
  "cells": [
    {
      "cell_type": "markdown",
      "metadata": {
        "id": "view-in-github",
        "colab_type": "text"
      },
      "source": [
        "<a href=\"https://colab.research.google.com/github/rosefromtheashes/Machine-Learning-Bootcamp/blob/main/Generatory.ipynb\" target=\"_parent\"><img src=\"https://colab.research.google.com/assets/colab-badge.svg\" alt=\"Open In Colab\"/></a>"
      ]
    },
    {
      "cell_type": "markdown",
      "source": [
        "Zbuduj generator o nazwie file_gen(), który z otrzymanej listy z nazwami plików, wybierze tylko te z rozszerzeniem .txt."
      ],
      "metadata": {
        "id": "fGAo9vBgzWpz"
      }
    },
    {
      "cell_type": "code",
      "source": [
        "def file_gen(files):\n",
        "  for file in files:\n",
        "    if file.endswith('txt'):\n",
        "      yield file\n",
        "\n",
        "fnames = ['data1.txt', 'data2.txt', 'data3.txt', 'view.jpg']\n",
        "x = file_gen(fnames)\n",
        "for file in x:\n",
        "  print(file)"
      ],
      "metadata": {
        "colab": {
          "base_uri": "https://localhost:8080/"
        },
        "id": "MTgIyDqYzYbH",
        "outputId": "e0e7e92e-fd85-4686-b9ad-63a7103b89da"
      },
      "execution_count": null,
      "outputs": [
        {
          "output_type": "stream",
          "name": "stdout",
          "text": [
            "data1.txt\n",
            "data2.txt\n",
            "data3.txt\n"
          ]
        }
      ]
    },
    {
      "cell_type": "markdown",
      "source": [
        "Zaimplementuj generator o nazwie enum(), który działa podobnie jak funkcja wbudowana enumerate(). Dla uproszczenia generator ma pobierać obiekt iterowalny i zwracać obiekt typu tuple (indeks, element)"
      ],
      "metadata": {
        "id": "nvVJCHRT0bM9"
      }
    },
    {
      "cell_type": "code",
      "source": [
        "def enum(items):\n",
        "    idx = 0\n",
        "    for item in items:\n",
        "        yield (idx, item)\n",
        "        idx += 1"
      ],
      "metadata": {
        "id": "TJcEb9cAiIO6"
      },
      "execution_count": 5,
      "outputs": []
    },
    {
      "cell_type": "markdown",
      "source": [
        "Zbuduj generator o nazwie dayname(), który przyjmie indeks elementu poniższej listy:\n",
        "\n",
        "days = ['pon', 'wt', 'śr', 'czw', 'pt', 'sb', 'nd']\n",
        "\n",
        "i pozwoli iterować po 3 dniach (dzień wcześniejszy, dzień obecny, dzień następny)."
      ],
      "metadata": {
        "id": "yCbfIzFziVAF"
      }
    },
    {
      "cell_type": "code",
      "source": [
        "def dayname(start_index):\n",
        "    days = ['pon', 'wt', 'śr', 'czw', 'pt', 'sb', 'nd']\n",
        "    previous_day_index = (start_index - 1) % len(days)\n",
        "    current_day_index = start_index\n",
        "    next_day_index = (start_index + 1) % len(days)\n",
        "\n",
        "    yield days[previous_day_index]\n",
        "    yield days[current_day_index]\n",
        "    yield days[next_day_index]\n",
        "\n",
        "\n",
        "for pair in dayname(0):\n",
        "    print(pair)\n",
        "\n",
        "\n"
      ],
      "metadata": {
        "colab": {
          "base_uri": "https://localhost:8080/"
        },
        "id": "OBqgepL-iWS3",
        "outputId": "fc2d6723-b2aa-45a4-c662-7cbd8ce1a426"
      },
      "execution_count": 8,
      "outputs": [
        {
          "output_type": "stream",
          "name": "stdout",
          "text": [
            "nd\n",
            "pon\n",
            "wt\n"
          ]
        }
      ]
    },
    {
      "cell_type": "code",
      "source": [
        "def even_numbers(n):\n",
        "    for i in range(0, n):\n",
        "        if i % 2 == 0:\n",
        "            yield i\n",
        "    pass\n",
        "\n",
        "for number in even_numbers(10):\n",
        "    print(number, end=',')\n",
        "\n",
        "print()\n",
        "\n",
        "for number in even_numbers(30):\n",
        "    print(number, end=',')"
      ],
      "metadata": {
        "id": "82tE9fO9kuiS"
      },
      "execution_count": null,
      "outputs": []
    },
    {
      "cell_type": "code",
      "source": [
        "def geometric_sequence(a, q, n):\n",
        "    for i in range(n):\n",
        "        yield a * q ** i\n",
        "    pass\n",
        "\n",
        "\n",
        "for num in geometric_sequence(1, 2, 10):\n",
        "    print(num, end=',')\n",
        "\n",
        "print()\n",
        "\n",
        "for num in geometric_sequence(1, 4, 10):\n",
        "    print(num, end=',')\n",
        "\n",
        "print()\n",
        "\n",
        "for num in geometric_sequence(1, 0.5, 5):\n",
        "    print(num, end=',')"
      ],
      "metadata": {
        "colab": {
          "base_uri": "https://localhost:8080/"
        },
        "id": "VexepqlZlu38",
        "outputId": "6e64432b-8702-44cd-8cdc-76db27f2772d"
      },
      "execution_count": 13,
      "outputs": [
        {
          "output_type": "stream",
          "name": "stdout",
          "text": [
            "1,2,4,8,16,32,64,128,256,512,\n",
            "1,4,16,64,256,1024,4096,16384,65536,262144,\n",
            "1.0,0.5,0.25,0.125,0.0625,"
          ]
        }
      ]
    },
    {
      "cell_type": "code",
      "source": [
        "def format_index(index):\n",
        "    return '{:06}'.format(index)\n",
        "\n",
        "# Przykłady użycia\n",
        "print(format_index(105))\n",
        "print(format_index(23))"
      ],
      "metadata": {
        "colab": {
          "base_uri": "https://localhost:8080/"
        },
        "id": "KVy-W9mMnUL3",
        "outputId": "e633e4cf-37e6-41c5-f911-316ddf43ea9a"
      },
      "execution_count": 14,
      "outputs": [
        {
          "output_type": "stream",
          "name": "stdout",
          "text": [
            "000105\n",
            "000023\n"
          ]
        }
      ]
    },
    {
      "cell_type": "code",
      "source": [
        "def order_number_generator(prefix, start, end):\n",
        "    for num in range(start, end):\n",
        "        formatted_num = '{:06}'.format(num)\n",
        "        yield(f'{prefix}-{formatted_num}')\n",
        "    pass\n",
        "\n",
        "\n",
        "for order_num in order_number_generator('ORD', 100, 110):\n",
        "    print(order_num)\n",
        "\n",
        "print()\n",
        "\n",
        "for order_num in order_number_generator('#111', 10, 20):\n",
        "    print(order_num)"
      ],
      "metadata": {
        "id": "qEyLNZ9tp3tF"
      },
      "execution_count": null,
      "outputs": []
    },
    {
      "cell_type": "code",
      "source": [
        "def pascal_triangle():\n",
        "    row = [1]  # Pierwszy wiersz trójkąta Pascala\n",
        "    while True:\n",
        "        yield row\n",
        "        next_row = [1]\n",
        "        for i in range(len(row) - 1):\n",
        "            next_row.append(row[i] + row[i + 1])\n",
        "        next_row.append(1)\n",
        "        row = next_row\n",
        "    pass\n",
        "\n",
        "\n",
        "triangle = pascal_triangle()\n",
        "\n",
        "for i in range(10):\n",
        "    print(next(triangle))"
      ],
      "metadata": {
        "colab": {
          "base_uri": "https://localhost:8080/"
        },
        "id": "ON70CoNQrdBD",
        "outputId": "28783fd8-a84f-4e97-e15f-6c8365f654d4"
      },
      "execution_count": 15,
      "outputs": [
        {
          "output_type": "stream",
          "name": "stdout",
          "text": [
            "[1]\n",
            "[1, 1]\n",
            "[1, 2, 1]\n",
            "[1, 3, 3, 1]\n",
            "[1, 4, 6, 4, 1]\n",
            "[1, 5, 10, 10, 5, 1]\n",
            "[1, 6, 15, 20, 15, 6, 1]\n",
            "[1, 7, 21, 35, 35, 21, 7, 1]\n",
            "[1, 8, 28, 56, 70, 56, 28, 8, 1]\n",
            "[1, 9, 36, 84, 126, 126, 84, 36, 9, 1]\n"
          ]
        }
      ]
    }
  ]
}