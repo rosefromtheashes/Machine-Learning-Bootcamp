{
  "nbformat": 4,
  "nbformat_minor": 0,
  "metadata": {
    "colab": {
      "provenance": [],
      "authorship_tag": "ABX9TyP9iIiBcmzabioeMapjFcrn",
      "include_colab_link": true
    },
    "kernelspec": {
      "name": "python3",
      "display_name": "Python 3"
    },
    "language_info": {
      "name": "python"
    }
  },
  "cells": [
    {
      "cell_type": "markdown",
      "metadata": {
        "id": "view-in-github",
        "colab_type": "text"
      },
      "source": [
        "<a href=\"https://colab.research.google.com/github/rosefromtheashes/Machine-Learning-Bootcamp/blob/main/Zapisywanie_do_pliku.ipynb\" target=\"_parent\"><img src=\"https://colab.research.google.com/assets/colab-badge.svg\" alt=\"Open In Colab\"/></a>"
      ]
    },
    {
      "cell_type": "markdown",
      "source": [
        "Wygeneruj wszystkie liczby parzyste od 2 do 18 włącznie. Następnie zapisz każdą liczbę w osobnej linii do pliku o nazwie num.txt."
      ],
      "metadata": {
        "id": "nw7mD4qD4U-f"
      }
    },
    {
      "cell_type": "code",
      "source": [
        "numbers = list(range(1, 20))\n",
        "even = [number for number in numbers if number % 2 == 0]\n",
        "\n",
        "with open('num.txt', 'w') as file:\n",
        "    for num in even:\n",
        "        file.write(str(num) + '\\n')"
      ],
      "metadata": {
        "id": "UV325b973xxH"
      },
      "execution_count": 1,
      "outputs": []
    },
    {
      "cell_type": "markdown",
      "source": [
        "Zapisz powyższe dane do pliku o nazwie users.csv (plik w formacie csv - comma-separated values) tak jak pokazano poniżej.\n",
        "\n",
        "Zawartość pliku po zapisaniu:\n",
        "\n",
        "user_id,amount\n",
        "\n",
        "001,1400\n",
        "\n",
        "004,1300\n",
        "\n",
        "007,900"
      ],
      "metadata": {
        "id": "JcwAftTj3lQx"
      }
    },
    {
      "cell_type": "code",
      "execution_count": 3,
      "metadata": {
        "id": "VGL5nSY42O0H"
      },
      "outputs": [],
      "source": [
        "headers = ['user_id', 'amount']\n",
        "users = [['001', '1400'], ['004', '1300'], ['007', '900']]\n",
        "\n",
        "with open('users.csv', 'w') as file:\n",
        "    file.write(','.join(headers) + '\\n')\n",
        "    for user in users: #muszę w liście iterować po listach\n",
        "        file.write(','.join(user) + '\\n')\n"
      ]
    },
    {
      "cell_type": "markdown",
      "source": [
        "zapisz każdy element listy w nowej linii pliku techs.txt. Oczekiwana zawartość pliku techs.txt:\n",
        "\n",
        "python\n",
        "\n",
        "java\n",
        "\n",
        "sql\n",
        "\n",
        "sas\n",
        "\n",
        "\n",
        "Zwróć uwagę na ostatnią pustą linię."
      ],
      "metadata": {
        "id": "oGu6R-2D-u9n"
      }
    },
    {
      "cell_type": "code",
      "source": [
        "techs = ['python', 'java', 'sql', 'sas']\n",
        "\n",
        "with open('techs.txt', 'w') as file:\n",
        "  for tech in techs:\n",
        "    print(tech, file = file)"
      ],
      "metadata": {
        "id": "yVshIL0F-y6Q"
      },
      "execution_count": null,
      "outputs": []
    },
    {
      "cell_type": "markdown",
      "source": [
        "Zapisz listę produktów do pliku tekstowego o nazwie products.txt. Każdy produkt zapisz jako wiersz, który składa się z nazwy produktu i ceny, oddzielonych przecinkiem. Każdy wiersz zakończ znakiem nowej linii \\n.\n",
        "\n",
        "Zawartość pliku products.txt po zapisaniu danych:\n",
        "\n",
        "T-shirt,29.99\n",
        "\n",
        "Shoes,99.99\n",
        "\n",
        "Pants,49.99"
      ],
      "metadata": {
        "id": "hoUDNPq7AXlj"
      }
    },
    {
      "cell_type": "code",
      "source": [
        "products = [\n",
        "    {'name': 'T-shirt', 'price': 29.99},\n",
        "    {'name': 'Shoes', 'price': 99.99},\n",
        "    {'name': 'Pants', 'price': 49.99},\n",
        "]\n",
        "\n",
        "with open('products.txt', 'w') as file:\n",
        "  for product in products:\n",
        "    print(product['name'], product['price'], sep = ',', file = file)"
      ],
      "metadata": {
        "id": "T5BJ4Th0AujY"
      },
      "execution_count": 5,
      "outputs": []
    },
    {
      "cell_type": "markdown",
      "source": [
        "Zapisz te dane do pliku tekstowego stock_prices.txt. Każdą spółkę zapisz jako wiersz, który składa się z nazwy spółki i ceny akcji, oddzielonych średnikiem. Każdy wiersz zakończ znakiem nowej linii \\n.\n",
        "\n",
        "Zawartość pliku stock_prices.txt po zapisaniu danych:\n",
        "\n",
        "AAPL;145.9\n",
        "\n",
        "GOOG;2680.7\n",
        "\n",
        "TSLA;712.6\n",
        "\n",
        "AMZN;3379.1"
      ],
      "metadata": {
        "id": "NwzzGYVqCmiz"
      }
    },
    {
      "cell_type": "code",
      "source": [
        "stock_data = {\n",
        "    'AAPL': 145.9,\n",
        "    'GOOG': 2680.7,\n",
        "    'TSLA': 712.6,\n",
        "    'AMZN': 3379.1\n",
        "}\n",
        "with open('stock_prices.txt', 'w') as file:\n",
        "  for company, price in stock_data.items():\n",
        "    file.write(f'{company};{price}\\n')"
      ],
      "metadata": {
        "id": "QysR7rzECo4k"
      },
      "execution_count": 8,
      "outputs": []
    },
    {
      "cell_type": "markdown",
      "source": [
        "Za pomocą metody write() zapisz powyższe dane pacjenta do pliku o nazwie patient_data.txt tak jak pokazano poniżej:\n",
        "\n",
        "First name: Jan\n",
        "\n",
        "Last name: Kowalski\n",
        "\n",
        "Weight: 75.5 kg\n",
        "\n",
        "Height: 1.85 m\n",
        "\n",
        "Date of birth: 1990-01-01\n",
        "\n",
        "Chronic conditions: hypertension, diabetes\n",
        "\n",
        "Hypertension medications: enalapril, hydrochlorothiazide\n",
        "\n",
        "Diabetes medications: metformin"
      ],
      "metadata": {
        "id": "2AkpkdjEEO41"
      }
    },
    {
      "cell_type": "code",
      "source": [
        "first_name = 'Jan'\n",
        "last_name = 'Kowalski'\n",
        "weight = 75.5\n",
        "height = 1.85\n",
        "date_of_birth = '1990-01-01'\n",
        "chronic_conditions = ['hypertension', 'diabetes']\n",
        "medications = {\n",
        "    'hypertension_medications': ['enalapril', 'hydrochlorothiazide'],\n",
        "    'diabetes_medications': ['metformin'],\n",
        "}\n",
        "\n",
        "with open('patient_data.txt', 'w') as file:\n",
        "  file.write(f\"First name: {first_name}\\nLast name: {last_name}\\nWeight: {weight} kg\\nHeight: {height} m\\nDate of birth: {date_of_birth}\\nChronic conditions: {chronic_conditions}\\nHypertension medications: {medications['hypertension_medications']}\\nDiabetes medications: {medications['diabetes_medications']}\")"
      ],
      "metadata": {
        "id": "ee7B0XEmEXi6"
      },
      "execution_count": 9,
      "outputs": []
    },
    {
      "cell_type": "code",
      "source": [],
      "metadata": {
        "id": "uyWzN14LFEjq"
      },
      "execution_count": null,
      "outputs": []
    },
    {
      "cell_type": "code",
      "source": [
        "first_name = 'Jan'\n",
        "last_name = 'Kowalski'\n",
        "weight = 75.5\n",
        "height = 1.85\n",
        "date_of_birth = '1990-01-01'\n",
        "chronic_conditions = ['hypertension', 'diabetes']\n",
        "medications = {\n",
        "    'hypertension_medications': ['enalapril', 'hydrochlorothiazide'],\n",
        "    'diabetes_medications': ['metformin'],\n",
        "}\n",
        "\n",
        "print(f\"First name: {first_name}\\nLast name: {last_name}\\nWeight: {weight} kg\\nHeight: {height} m\\nDate of birth: {date_of_birth}\\nChronic conditions: {', '.join(chronic_conditions)}\\nHypertension medications: {', '.join(medications['hypertension_medications'])}\\nDiabetes medications: {', '.join(medications['diabetes_medications'])}\")"
      ],
      "metadata": {
        "colab": {
          "base_uri": "https://localhost:8080/"
        },
        "id": "FGXv3HTnIQYF",
        "outputId": "cc4ebb59-ca5a-4fa1-bf96-587ac1592ad3"
      },
      "execution_count": 10,
      "outputs": [
        {
          "output_type": "stream",
          "name": "stdout",
          "text": [
            "First name: Jan\n",
            "Last name: Kowalski\n",
            "Weight: 75.5 kg\n",
            "Height: 1.85 m\n",
            "Date of birth: 1990-01-01\n",
            "Chronic conditions: hypertension, diabetes\n",
            "Hypertension medications: enalapril, hydrochlorothiazide\n",
            "Diabetes medications: metformin\n"
          ]
        }
      ]
    }
  ]
}